{
 "cells": [
  {
   "cell_type": "code",
   "execution_count": 136,
   "metadata": {},
   "outputs": [
    {
     "name": "stdout",
     "output_type": "stream",
     "text": [
      "The autoreload extension is already loaded. To reload it, use:\n",
      "  %reload_ext autoreload\n"
     ]
    }
   ],
   "source": [
    "%load_ext autoreload\n",
    "%autoreload 2\n",
    "pd.set_option('display.max_rows', 600)\n",
    "pd.set_option('display.max_colwidth', 300)\n",
    "import re\n",
    "from html.parser import HTMLParser"
   ]
  },
  {
   "cell_type": "code",
   "execution_count": 6,
   "metadata": {},
   "outputs": [],
   "source": [
    "df = pd.read_json('data/ufodata.json', lines=True)"
   ]
  },
  {
   "cell_type": "code",
   "execution_count": 7,
   "metadata": {},
   "outputs": [
    {
     "name": "stdout",
     "output_type": "stream",
     "text": [
      "<class 'pandas.core.frame.DataFrame'>\n",
      "RangeIndex: 136494 entries, 0 to 136493\n",
      "Data columns (total 4 columns):\n",
      " #   Column  Non-Null Count   Dtype \n",
      "---  ------  --------------   ----- \n",
      " 0   _id     136494 non-null  object\n",
      " 1   url     136494 non-null  object\n",
      " 2   html    136494 non-null  object\n",
      " 3   time    136494 non-null  object\n",
      "dtypes: object(4)\n",
      "memory usage: 4.2+ MB\n"
     ]
    }
   ],
   "source": [
    "df.info()"
   ]
  },
  {
   "cell_type": "code",
   "execution_count": 14,
   "metadata": {},
   "outputs": [
    {
     "data": {
      "text/plain": [
       "0    True\n",
       "Name: html, dtype: bool"
      ]
     },
     "execution_count": 14,
     "metadata": {},
     "output_type": "execute_result"
    }
   ],
   "source": [
    "df.head(1)['html'].str.contains('McGregor')"
   ]
  },
  {
   "cell_type": "code",
   "execution_count": 15,
   "metadata": {},
   "outputs": [],
   "source": [
    "obj = df.loc[0,'html']"
   ]
  },
  {
   "cell_type": "code",
   "execution_count": 32,
   "metadata": {},
   "outputs": [],
   "source": [
    "pattern = re.compile('<TBODY>.*<\\/TBODY>')"
   ]
  },
  {
   "cell_type": "code",
   "execution_count": 43,
   "metadata": {},
   "outputs": [
    {
     "data": {
      "text/plain": [
       "<re.Match object; span=(39621, 39629), match='<TBODY>\\r'>"
      ]
     },
     "execution_count": 43,
     "metadata": {},
     "output_type": "execute_result"
    }
   ],
   "source": [
    "re.search(r'<TBODY>.*', obj)"
   ]
  },
  {
   "cell_type": "code",
   "execution_count": 44,
   "metadata": {},
   "outputs": [
    {
     "data": {
      "text/plain": [
       "[]"
      ]
     },
     "execution_count": 44,
     "metadata": {},
     "output_type": "execute_result"
    }
   ],
   "source": [
    "re.findall(r'<TBODY>.*<\\/TBODY>', obj)"
   ]
  },
  {
   "cell_type": "code",
   "execution_count": 68,
   "metadata": {},
   "outputs": [
    {
     "data": {
      "text/plain": [
       "40386"
      ]
     },
     "execution_count": 68,
     "metadata": {},
     "output_type": "execute_result"
    }
   ],
   "source": [
    "re.search('</TBODY>', obj).span()[0]"
   ]
  },
  {
   "cell_type": "code",
   "execution_count": 28,
   "metadata": {},
   "outputs": [
    {
     "data": {
      "text/plain": [
       "'\"http://www.nuforc.org/webreports/ndxshape.html\">by Shape</a> | <a\\r\\nhref=\"http://www.nuforc.org/webreports/ndxpost.html\">by Posting Date</a></span><span\\r\\nstyle=\\'mso-fareast-font-family:\"Times New Roman\"\\'><o:p></o:p></span></p>\\r\\n\\r\\n</div>\\r\\n\\r\\n<!--The following token places all object output inside the <BODY> tag.--><TABLE BORDER=1 BGCOLOR=#ffffff CELLSPACING=0><FONT FACE=\"Calibri\" COLOR=#000000><CAPTION><B>National UFO Reporting Center</B></CAPTION></FONT>\\r\\n\\r\\n<THEAD>\\r\\n<TR>\\r\\n<TH BGCOLOR=#c0c0c0 BORDERCOLOR=#000000 ><FONT style=FONT-SIZE:11pt FACE=\"Calibri\" COLOR=#000000>Sighting Report</FONT></TH>\\r\\n\\r\\n</TR>\\r\\n</THEAD>\\r\\n<TBODY>\\r\\n<TR VALIGN=TOP>\\r\\n<TD BORDERCOLOR=#d0d7e5 ><FONT style=FONT-SIZE:11pt FACE=\"Calibri\" COLOR=#000000>Occurred : 5/6/2017 05:00  (Entered as : 05/06/2017 05:00)<BR>Reported: 5/6/2017 4:10:01 AM 04:10<BR>Posted: 5/6/2017<BR>Location: Camp McGregor, NM<BR>Shape: Light<BR>Duration:10 minutes</FONT></TD>\\r\\n\\r\\n</TR>\\r\\n\\r\\n<TR VALIGN=TOP>\\r\\n<TD BORDERCOLOR=#d0d7e5 ><FONT style=FONT-SIZE:11pt FACE=\"Calibri\" COLOR=#000000>Light seen over mountain\\'s east of Camp McGregor.  It hovered in one spot.  It looked like a helicopter light at first.  But it was way to bright.  Then it went to a higher height.  Stayed there for a while.  Then disappeared.<BR><BR><BR>((NUFORC Note:  Report appears to us to be consistent with the sighting of Venus.  PD))</FONT></TD>\\r\\n\\r\\n</TR>\\r\\n</TBODY>\\r\\n<TFOOT></TFOOT>\\r\\n</TABLE>\\r\\n</body>\\r\\n\\r\\n</html>\\r\\n\\x00'"
      ]
     },
     "execution_count": 28,
     "metadata": {},
     "output_type": "execute_result"
    }
   ],
   "source": [
    "obj[39000:41000]"
   ]
  },
  {
   "cell_type": "code",
   "execution_count": 31,
   "metadata": {},
   "outputs": [
    {
     "data": {
      "text/plain": [
       "'<'"
      ]
     },
     "execution_count": 31,
     "metadata": {},
     "output_type": "execute_result"
    }
   ],
   "source": [
    "obj[40386]"
   ]
  },
  {
   "cell_type": "code",
   "execution_count": 117,
   "metadata": {},
   "outputs": [],
   "source": [
    "def index_finder(row):\n",
    "    try:\n",
    "        index = re.search('Occurred : .*', row).span()\n",
    "        begin, end = index[0], index[1]\n",
    "        tolist = row[begin:end].replace('\\r', '').replace('</FONT></TD>', '').split('<BR>')\n",
    "        return tolist\n",
    "    except AttributeError:\n",
    "        pass"
   ]
  },
  {
   "cell_type": "code",
   "execution_count": 113,
   "metadata": {},
   "outputs": [
    {
     "data": {
      "text/plain": [
       "['Occurred : 5/6/2017 05:00  (Entered as : 05/06/2017 05:00)',\n",
       " 'Reported: 5/6/2017 4:10:01 AM 04:10',\n",
       " 'Posted: 5/6/2017',\n",
       " 'Location: Camp McGregor, NM',\n",
       " 'Shape: Light',\n",
       " 'Duration:10 minutes']"
      ]
     },
     "execution_count": 113,
     "metadata": {},
     "output_type": "execute_result"
    }
   ],
   "source": [
    "index_finder(obj)"
   ]
  },
  {
   "cell_type": "code",
   "execution_count": 118,
   "metadata": {},
   "outputs": [],
   "source": [
    "df['NewCol'] = df['html'].apply(index_finder)"
   ]
  },
  {
   "cell_type": "code",
   "execution_count": 119,
   "metadata": {},
   "outputs": [
    {
     "name": "stdout",
     "output_type": "stream",
     "text": [
      "<class 'pandas.core.frame.DataFrame'>\n",
      "RangeIndex: 136494 entries, 0 to 136493\n",
      "Data columns (total 5 columns):\n",
      " #   Column  Non-Null Count   Dtype \n",
      "---  ------  --------------   ----- \n",
      " 0   _id     136494 non-null  object\n",
      " 1   url     136494 non-null  object\n",
      " 2   html    136494 non-null  object\n",
      " 3   time    136494 non-null  object\n",
      " 4   NewCol  136332 non-null  object\n",
      "dtypes: object(5)\n",
      "memory usage: 5.2+ MB\n"
     ]
    }
   ],
   "source": [
    "df.info()"
   ]
  },
  {
   "cell_type": "markdown",
   "metadata": {},
   "source": [
    "df['NewCol'].tolist()"
   ]
  },
  {
   "cell_type": "markdown",
   "metadata": {},
   "source": [
    "### Messing around with html.parser"
   ]
  },
  {
   "cell_type": "code",
   "execution_count": 178,
   "metadata": {},
   "outputs": [],
   "source": [
    "td = soup.find_all('td')"
   ]
  },
  {
   "cell_type": "code",
   "execution_count": 183,
   "metadata": {},
   "outputs": [
    {
     "data": {
      "text/plain": [
       "\"Light seen over mountain's east of Camp McGregor.  It hovered in one spot.  It looked like a helicopter light at first.  But it was way to bright.  Then it went to a higher height.  Stayed there for a while.  Then disappeared.((NUFORC Note:  Report appears to us to be consistent with the sighting of Venus.  PD))\""
      ]
     },
     "execution_count": 183,
     "metadata": {},
     "output_type": "execute_result"
    }
   ],
   "source": [
    "td[1].get_text()"
   ]
  },
  {
   "cell_type": "code",
   "execution_count": 185,
   "metadata": {},
   "outputs": [],
   "source": [
    "text = str(td[0])"
   ]
  },
  {
   "cell_type": "code",
   "execution_count": 188,
   "metadata": {},
   "outputs": [
    {
     "data": {
      "text/plain": [
       "['Occurred : 5/6/2017 05:00  (Entered as : 05/06/2017 05:00)',\n",
       " 'Reported: 5/6/2017 4:10:01 AM 04:10',\n",
       " 'Posted: 5/6/2017',\n",
       " 'Location: Camp McGregor, NM',\n",
       " 'Shape: Light',\n",
       " 'Duration:10 minutes']"
      ]
     },
     "execution_count": 188,
     "metadata": {},
     "output_type": "execute_result"
    }
   ],
   "source": [
    "text.replace('<td bordercolor=\"#d0d7e5\"><font color=\"#000000\" face=\"Calibri\" style=\"FONT-SIZE:11pt\">', '').replace('</font></td>', '').split('<br/>')"
   ]
  },
  {
   "cell_type": "code",
   "execution_count": 250,
   "metadata": {},
   "outputs": [],
   "source": [
    "#Approach is to break up the data pulls, first pull text, then pull the table data\n",
    "\n",
    "tables = []\n",
    "def parser(row):\n",
    "    soup = BeautifulSoup(row, 'html.parser')\n",
    "    try:\n",
    "        td = soup.find_all('td')\n",
    "        table = str(td[0]).replace('<td bordercolor=\"#d0d7e5\"><font color=\"#000000\" face=\"Calibri\" style=\"FONT-SIZE:11pt\">', '').replace('</font></td>', '').split('<br/>')\n",
    "        #tables.append(table)\n",
    "        #text = td[1].get_text()\n",
    "        return table\n",
    "    except IndexError:\n",
    "        return row"
   ]
  },
  {
   "cell_type": "code",
   "execution_count": 225,
   "metadata": {},
   "outputs": [
    {
     "name": "stdout",
     "output_type": "stream",
     "text": [
      "3.0988337834676107\n"
     ]
    }
   ],
   "source": [
    "from time import time\n",
    "start = time()\n",
    "df['text'] = df.html.apply(parser)    \n",
    "print((time() - start)/60)"
   ]
  },
  {
   "cell_type": "code",
   "execution_count": 251,
   "metadata": {},
   "outputs": [
    {
     "name": "stdout",
     "output_type": "stream",
     "text": [
      "3.2384648005167644\n"
     ]
    }
   ],
   "source": [
    "from time import time\n",
    "start = time()\n",
    "df['table'] = df.html.apply(parser)    \n",
    "print((time() - start)/60)"
   ]
  },
  {
   "cell_type": "code",
   "execution_count": 230,
   "metadata": {},
   "outputs": [],
   "source": [
    "df.drop('NewCol', axis=1, inplace=True)"
   ]
  },
  {
   "cell_type": "code",
   "execution_count": 253,
   "metadata": {},
   "outputs": [
    {
     "name": "stdout",
     "output_type": "stream",
     "text": [
      "<class 'pandas.core.frame.DataFrame'>\n",
      "RangeIndex: 136494 entries, 0 to 136493\n",
      "Data columns (total 6 columns):\n",
      " #   Column  Non-Null Count   Dtype \n",
      "---  ------  --------------   ----- \n",
      " 0   _id     136494 non-null  object\n",
      " 1   url     136494 non-null  object\n",
      " 2   html    136494 non-null  object\n",
      " 3   time    136494 non-null  object\n",
      " 4   text    136494 non-null  object\n",
      " 5   table   136494 non-null  object\n",
      "dtypes: object(6)\n",
      "memory usage: 6.2+ MB\n"
     ]
    }
   ],
   "source": [
    "df.info()"
   ]
  },
  {
   "cell_type": "code",
   "execution_count": 256,
   "metadata": {},
   "outputs": [],
   "source": [
    "bad_index = df[(df['text'] == \"\")&(df['table'] == \"\")].index"
   ]
  },
  {
   "cell_type": "code",
   "execution_count": 323,
   "metadata": {},
   "outputs": [],
   "source": [
    "temp = df[~df.index.isin(bad_index)]"
   ]
  },
  {
   "cell_type": "code",
   "execution_count": 324,
   "metadata": {},
   "outputs": [
    {
     "name": "stdout",
     "output_type": "stream",
     "text": [
      "<class 'pandas.core.frame.DataFrame'>\n",
      "Int64Index: 136457 entries, 0 to 136493\n",
      "Data columns (total 6 columns):\n",
      " #   Column  Non-Null Count   Dtype \n",
      "---  ------  --------------   ----- \n",
      " 0   _id     136457 non-null  object\n",
      " 1   url     136457 non-null  object\n",
      " 2   html    136457 non-null  object\n",
      " 3   time    136457 non-null  object\n",
      " 4   text    136457 non-null  object\n",
      " 5   table   136457 non-null  object\n",
      "dtypes: object(6)\n",
      "memory usage: 7.3+ MB\n"
     ]
    }
   ],
   "source": [
    "temp.info()"
   ]
  },
  {
   "cell_type": "code",
   "execution_count": 274,
   "metadata": {},
   "outputs": [],
   "source": [
    "indices = np.where(temp['table'].apply(lambda x: len(x) < 6))"
   ]
  },
  {
   "cell_type": "code",
   "execution_count": 284,
   "metadata": {},
   "outputs": [],
   "source": [
    "inds = indices[0]"
   ]
  },
  {
   "cell_type": "code",
   "execution_count": 289,
   "metadata": {},
   "outputs": [
    {
     "data": {
      "text/html": [
       "<div>\n",
       "<style scoped>\n",
       "    .dataframe tbody tr th:only-of-type {\n",
       "        vertical-align: middle;\n",
       "    }\n",
       "\n",
       "    .dataframe tbody tr th {\n",
       "        vertical-align: top;\n",
       "    }\n",
       "\n",
       "    .dataframe thead th {\n",
       "        text-align: right;\n",
       "    }\n",
       "</style>\n",
       "<table border=\"1\" class=\"dataframe\">\n",
       "  <thead>\n",
       "    <tr style=\"text-align: right;\">\n",
       "      <th></th>\n",
       "      <th>_id</th>\n",
       "      <th>url</th>\n",
       "      <th>html</th>\n",
       "      <th>time</th>\n",
       "      <th>text</th>\n",
       "      <th>table</th>\n",
       "    </tr>\n",
       "  </thead>\n",
       "  <tbody>\n",
       "    <tr>\n",
       "      <th>0</th>\n",
       "      <td>{'$oid': '591382287c40e83fd74240bd'}</td>\n",
       "      <td>http://www.nuforc.org/webreports/133/S133978.html</td>\n",
       "      <td>&lt;html xmlns:v=\"urn:schemas-microsoft-com:vml\"\\r\\nxmlns:o=\"urn:schemas-microsoft-com:office:office\"\\r\\nxmlns:w=\"urn:schemas-microsoft-com:office:word\"\\r\\nxmlns:m=\"http://schemas.microsoft.com/office/2004/12/omml\"\\r\\nxmlns=\"http://www.w3.org/TR/REC-html40\"&gt;\\r\\n\\r\\n&lt;head&gt;\\r\\n&lt;meta http-equiv=Conten...</td>\n",
       "      <td>Wed May 10 21:12:07 2017</td>\n",
       "      <td>Light seen over mountain's east of Camp McGregor.  It hovered in one spot.  It looked like a helicopter light at first.  But it was way to bright.  Then it went to a higher height.  Stayed there for a while.  Then disappeared.((NUFORC Note:  Report appears to us to be consistent with the sightin...</td>\n",
       "      <td>[Occurred : 5/6/2017 05:00  (Entered as : 05/06/2017 05:00), Reported: 5/6/2017 4:10:01 AM 04:10, Posted: 5/6/2017, Location: Camp McGregor, NM, Shape: Light, Duration:10 minutes]</td>\n",
       "    </tr>\n",
       "    <tr>\n",
       "      <th>1</th>\n",
       "      <td>{'$oid': '591389377c40e840c123dfef'}</td>\n",
       "      <td>http://www.nuforc.org/webreports/133/S133977.html\\n</td>\n",
       "      <td>&lt;html xmlns:v=\"urn:schemas-microsoft-com:vml\"\\r\\nxmlns:o=\"urn:schemas-microsoft-com:office:office\"\\r\\nxmlns:w=\"urn:schemas-microsoft-com:office:word\"\\r\\nxmlns:m=\"http://schemas.microsoft.com/office/2004/12/omml\"\\r\\nxmlns=\"http://www.w3.org/TR/REC-html40\"&gt;\\r\\n\\r\\n&lt;head&gt;\\r\\n&lt;meta http-equiv=Conten...</td>\n",
       "      <td>Wed May 10 21:42:15 2017</td>\n",
       "      <td>Light in sky stationary.  Not a airplane or any known star.  Flickering in brightness.((NUFORC Note:  Possibly Venus.  Source of the report elects to remain anonymous; provides no contact information.  We could not find a city named \"Mojave\" in BC, Canada.  PD))</td>\n",
       "      <td>[Occurred : 5/6/2017 04:50  (Entered as : 06/05/2017 04:50), Reported: 5/6/2017 5:00:54 AM 05:00, Posted: 5/6/2017, Location: Mojave (Canada), BC, Shape: Light, Duration:1:00]</td>\n",
       "    </tr>\n",
       "    <tr>\n",
       "      <th>2</th>\n",
       "      <td>{'$oid': '591389397c40e840c123dff0'}</td>\n",
       "      <td>http://www.nuforc.org/webreports/133/S133974.html\\n</td>\n",
       "      <td>&lt;html xmlns:v=\"urn:schemas-microsoft-com:vml\"\\r\\nxmlns:o=\"urn:schemas-microsoft-com:office:office\"\\r\\nxmlns:w=\"urn:schemas-microsoft-com:office:word\"\\r\\nxmlns:m=\"http://schemas.microsoft.com/office/2004/12/omml\"\\r\\nxmlns=\"http://www.w3.org/TR/REC-html40\"&gt;\\r\\n\\r\\n&lt;head&gt;\\r\\n&lt;meta http-equiv=Conten...</td>\n",
       "      <td>Wed May 10 21:42:17 2017</td>\n",
       "      <td>Flying saucer descends, possibly lands in North Austin nature trailAt approximately 11:30 AM I was on the balcony of my apartment when I saw a flying object descending in the sky very rapidly.  It traveled from west to east over Walnut Creek where it appeared to land on the trail.  It definitely...</td>\n",
       "      <td>[Occurred : 5/5/2017 11:30  (Entered as : 05/05/17 11:30), Reported: 5/5/2017 12:18:44 PM 12:18, Posted: 5/6/2017, Location: Austin, TX, Shape: Disk, Duration:3 seconds]</td>\n",
       "    </tr>\n",
       "    <tr>\n",
       "      <th>3</th>\n",
       "      <td>{'$oid': '5913893c7c40e840c123dff1'}</td>\n",
       "      <td>http://www.nuforc.org/webreports/133/S133964.html\\n</td>\n",
       "      <td>&lt;html xmlns:v=\"urn:schemas-microsoft-com:vml\"\\r\\nxmlns:o=\"urn:schemas-microsoft-com:office:office\"\\r\\nxmlns:w=\"urn:schemas-microsoft-com:office:word\"\\r\\nxmlns:m=\"http://schemas.microsoft.com/office/2004/12/omml\"\\r\\nxmlns=\"http://www.w3.org/TR/REC-html40\"&gt;\\r\\n\\r\\n&lt;head&gt;\\r\\n&lt;meta http-equiv=Conten...</td>\n",
       "      <td>Wed May 10 21:42:20 2017</td>\n",
       "      <td>While letting my dog out, a very bright white circle of light appeared suddenly in the sky.  It seemed very low like small plane or helicopter height, but was brighter than anything I have seen before.  It almost immediately began moving rapidly in a straight northeast direction, never diminishi...</td>\n",
       "      <td>[Occurred : 5/5/2017 03:00  (Entered as : 5/5/17 3:00), Reported: 5/5/2017 3:49:05 AM 03:49, Posted: 5/6/2017, Location: El Mirage, AZ, Shape: Circle, Duration:30 seconds]</td>\n",
       "    </tr>\n",
       "    <tr>\n",
       "      <th>4</th>\n",
       "      <td>{'$oid': '5913893f7c40e840c123dff2'}</td>\n",
       "      <td>http://www.nuforc.org/webreports/133/S133962.html\\n</td>\n",
       "      <td>&lt;html xmlns:v=\"urn:schemas-microsoft-com:vml\"\\r\\nxmlns:o=\"urn:schemas-microsoft-com:office:office\"\\r\\nxmlns:w=\"urn:schemas-microsoft-com:office:word\"\\r\\nxmlns:m=\"http://schemas.microsoft.com/office/2004/12/omml\"\\r\\nxmlns=\"http://www.w3.org/TR/REC-html40\"&gt;\\r\\n\\r\\n&lt;head&gt;\\r\\n&lt;meta http-equiv=Conten...</td>\n",
       "      <td>Wed May 10 21:42:23 2017</td>\n",
       "      <td>A fire ball was moving in the atmosphere while stopping, going, and even changing directions.11:17 p.m CST. (The before situation) This is when I first snuck outside to go stargazing for a while. When I first came outside I began to watch the stars and relax as the last day of school for me is t...</td>\n",
       "      <td>[Occurred : 5/4/2017 23:34  (Entered as : 5/4/17 23:34), Reported: 5/4/2017 10:38:52 PM 22:38, Posted: 5/6/2017, Location: York, NE, Shape: Fireball, Duration:0:18]</td>\n",
       "    </tr>\n",
       "  </tbody>\n",
       "</table>\n",
       "</div>"
      ],
      "text/plain": [
       "                                    _id  \\\n",
       "0  {'$oid': '591382287c40e83fd74240bd'}   \n",
       "1  {'$oid': '591389377c40e840c123dfef'}   \n",
       "2  {'$oid': '591389397c40e840c123dff0'}   \n",
       "3  {'$oid': '5913893c7c40e840c123dff1'}   \n",
       "4  {'$oid': '5913893f7c40e840c123dff2'}   \n",
       "\n",
       "                                                   url  \\\n",
       "0    http://www.nuforc.org/webreports/133/S133978.html   \n",
       "1  http://www.nuforc.org/webreports/133/S133977.html\\n   \n",
       "2  http://www.nuforc.org/webreports/133/S133974.html\\n   \n",
       "3  http://www.nuforc.org/webreports/133/S133964.html\\n   \n",
       "4  http://www.nuforc.org/webreports/133/S133962.html\\n   \n",
       "\n",
       "                                                                                                                                                                                                                                                                                                          html  \\\n",
       "0  <html xmlns:v=\"urn:schemas-microsoft-com:vml\"\\r\\nxmlns:o=\"urn:schemas-microsoft-com:office:office\"\\r\\nxmlns:w=\"urn:schemas-microsoft-com:office:word\"\\r\\nxmlns:m=\"http://schemas.microsoft.com/office/2004/12/omml\"\\r\\nxmlns=\"http://www.w3.org/TR/REC-html40\">\\r\\n\\r\\n<head>\\r\\n<meta http-equiv=Conten...   \n",
       "1  <html xmlns:v=\"urn:schemas-microsoft-com:vml\"\\r\\nxmlns:o=\"urn:schemas-microsoft-com:office:office\"\\r\\nxmlns:w=\"urn:schemas-microsoft-com:office:word\"\\r\\nxmlns:m=\"http://schemas.microsoft.com/office/2004/12/omml\"\\r\\nxmlns=\"http://www.w3.org/TR/REC-html40\">\\r\\n\\r\\n<head>\\r\\n<meta http-equiv=Conten...   \n",
       "2  <html xmlns:v=\"urn:schemas-microsoft-com:vml\"\\r\\nxmlns:o=\"urn:schemas-microsoft-com:office:office\"\\r\\nxmlns:w=\"urn:schemas-microsoft-com:office:word\"\\r\\nxmlns:m=\"http://schemas.microsoft.com/office/2004/12/omml\"\\r\\nxmlns=\"http://www.w3.org/TR/REC-html40\">\\r\\n\\r\\n<head>\\r\\n<meta http-equiv=Conten...   \n",
       "3  <html xmlns:v=\"urn:schemas-microsoft-com:vml\"\\r\\nxmlns:o=\"urn:schemas-microsoft-com:office:office\"\\r\\nxmlns:w=\"urn:schemas-microsoft-com:office:word\"\\r\\nxmlns:m=\"http://schemas.microsoft.com/office/2004/12/omml\"\\r\\nxmlns=\"http://www.w3.org/TR/REC-html40\">\\r\\n\\r\\n<head>\\r\\n<meta http-equiv=Conten...   \n",
       "4  <html xmlns:v=\"urn:schemas-microsoft-com:vml\"\\r\\nxmlns:o=\"urn:schemas-microsoft-com:office:office\"\\r\\nxmlns:w=\"urn:schemas-microsoft-com:office:word\"\\r\\nxmlns:m=\"http://schemas.microsoft.com/office/2004/12/omml\"\\r\\nxmlns=\"http://www.w3.org/TR/REC-html40\">\\r\\n\\r\\n<head>\\r\\n<meta http-equiv=Conten...   \n",
       "\n",
       "                       time  \\\n",
       "0  Wed May 10 21:12:07 2017   \n",
       "1  Wed May 10 21:42:15 2017   \n",
       "2  Wed May 10 21:42:17 2017   \n",
       "3  Wed May 10 21:42:20 2017   \n",
       "4  Wed May 10 21:42:23 2017   \n",
       "\n",
       "                                                                                                                                                                                                                                                                                                          text  \\\n",
       "0  Light seen over mountain's east of Camp McGregor.  It hovered in one spot.  It looked like a helicopter light at first.  But it was way to bright.  Then it went to a higher height.  Stayed there for a while.  Then disappeared.((NUFORC Note:  Report appears to us to be consistent with the sightin...   \n",
       "1                                       Light in sky stationary.  Not a airplane or any known star.  Flickering in brightness.((NUFORC Note:  Possibly Venus.  Source of the report elects to remain anonymous; provides no contact information.  We could not find a city named \"Mojave\" in BC, Canada.  PD))   \n",
       "2  Flying saucer descends, possibly lands in North Austin nature trailAt approximately 11:30 AM I was on the balcony of my apartment when I saw a flying object descending in the sky very rapidly.  It traveled from west to east over Walnut Creek where it appeared to land on the trail.  It definitely...   \n",
       "3  While letting my dog out, a very bright white circle of light appeared suddenly in the sky.  It seemed very low like small plane or helicopter height, but was brighter than anything I have seen before.  It almost immediately began moving rapidly in a straight northeast direction, never diminishi...   \n",
       "4  A fire ball was moving in the atmosphere while stopping, going, and even changing directions.11:17 p.m CST. (The before situation) This is when I first snuck outside to go stargazing for a while. When I first came outside I began to watch the stars and relax as the last day of school for me is t...   \n",
       "\n",
       "                                                                                                                                                                                 table  \n",
       "0  [Occurred : 5/6/2017 05:00  (Entered as : 05/06/2017 05:00), Reported: 5/6/2017 4:10:01 AM 04:10, Posted: 5/6/2017, Location: Camp McGregor, NM, Shape: Light, Duration:10 minutes]  \n",
       "1      [Occurred : 5/6/2017 04:50  (Entered as : 06/05/2017 04:50), Reported: 5/6/2017 5:00:54 AM 05:00, Posted: 5/6/2017, Location: Mojave (Canada), BC, Shape: Light, Duration:1:00]  \n",
       "2            [Occurred : 5/5/2017 11:30  (Entered as : 05/05/17 11:30), Reported: 5/5/2017 12:18:44 PM 12:18, Posted: 5/6/2017, Location: Austin, TX, Shape: Disk, Duration:3 seconds]  \n",
       "3          [Occurred : 5/5/2017 03:00  (Entered as : 5/5/17 3:00), Reported: 5/5/2017 3:49:05 AM 03:49, Posted: 5/6/2017, Location: El Mirage, AZ, Shape: Circle, Duration:30 seconds]  \n",
       "4                 [Occurred : 5/4/2017 23:34  (Entered as : 5/4/17 23:34), Reported: 5/4/2017 10:38:52 PM 22:38, Posted: 5/6/2017, Location: York, NE, Shape: Fireball, Duration:0:18]  "
      ]
     },
     "execution_count": 289,
     "metadata": {},
     "output_type": "execute_result"
    }
   ],
   "source": [
    "temp.head()"
   ]
  },
  {
   "cell_type": "markdown",
   "metadata": {},
   "source": [
    "### Creating the \"occurred\" column"
   ]
  },
  {
   "cell_type": "code",
   "execution_count": 295,
   "metadata": {},
   "outputs": [
    {
     "name": "stderr",
     "output_type": "stream",
     "text": [
      "<ipython-input-295-169fa57615c5>:1: SettingWithCopyWarning: \n",
      "A value is trying to be set on a copy of a slice from a DataFrame.\n",
      "Try using .loc[row_indexer,col_indexer] = value instead\n",
      "\n",
      "See the caveats in the documentation: https://pandas.pydata.org/pandas-docs/stable/user_guide/indexing.html#returning-a-view-versus-a-copy\n",
      "  temp['occurred'] = temp['table'].apply(lambda x: x[0]).str.replace('<td bordercolor=\"#c0c0c0\"><font color=\"#000000\" face=\"Arial\" style=\"FONT-SIZE:10pt\">', '')\n"
     ]
    }
   ],
   "source": [
    "temp['occurred'] = temp['table'].apply(lambda x: x[0]).str.replace('<td bordercolor=\"#c0c0c0\"><font color=\"#000000\" face=\"Arial\" style=\"FONT-SIZE:10pt\">', '')"
   ]
  },
  {
   "cell_type": "code",
   "execution_count": 325,
   "metadata": {},
   "outputs": [
    {
     "name": "stdout",
     "output_type": "stream",
     "text": [
      "<class 'pandas.core.frame.DataFrame'>\n",
      "Int64Index: 136457 entries, 0 to 136493\n",
      "Data columns (total 6 columns):\n",
      " #   Column  Non-Null Count   Dtype \n",
      "---  ------  --------------   ----- \n",
      " 0   _id     136457 non-null  object\n",
      " 1   url     136457 non-null  object\n",
      " 2   html    136457 non-null  object\n",
      " 3   time    136457 non-null  object\n",
      " 4   text    136457 non-null  object\n",
      " 5   table   136457 non-null  object\n",
      "dtypes: object(6)\n",
      "memory usage: 7.3+ MB\n"
     ]
    }
   ],
   "source": [
    "temp.info()"
   ]
  },
  {
   "cell_type": "markdown",
   "metadata": {},
   "source": [
    "### Create all extra columns in one go"
   ]
  },
  {
   "cell_type": "code",
   "execution_count": 326,
   "metadata": {},
   "outputs": [],
   "source": [
    "from NLP_Case_study import table_parser"
   ]
  },
  {
   "cell_type": "code",
   "execution_count": 327,
   "metadata": {},
   "outputs": [],
   "source": [
    "col_names = ['occurred', 'reported', 'posted', 'location', 'shape', 'duration']"
   ]
  },
  {
   "cell_type": "code",
   "execution_count": 329,
   "metadata": {},
   "outputs": [
    {
     "name": "stderr",
     "output_type": "stream",
     "text": [
      "<ipython-input-329-75a7db7eef3e>:2: SettingWithCopyWarning: \n",
      "A value is trying to be set on a copy of a slice from a DataFrame.\n",
      "Try using .loc[row_indexer,col_indexer] = value instead\n",
      "\n",
      "See the caveats in the documentation: https://pandas.pydata.org/pandas-docs/stable/user_guide/indexing.html#returning-a-view-versus-a-copy\n",
      "  temp[name] = temp['table'].apply(table_parser, n=ind)\n"
     ]
    }
   ],
   "source": [
    "for ind, name in enumerate(col_names):\n",
    "    temp[name] = temp['table'].apply(table_parser, n=ind)"
   ]
  },
  {
   "cell_type": "code",
   "execution_count": 347,
   "metadata": {},
   "outputs": [
    {
     "name": "stdout",
     "output_type": "stream",
     "text": [
      "<class 'pandas.core.frame.DataFrame'>\n",
      "Int64Index: 136457 entries, 0 to 136493\n",
      "Data columns (total 12 columns):\n",
      " #   Column    Non-Null Count   Dtype \n",
      "---  ------    --------------   ----- \n",
      " 0   _id       136457 non-null  object\n",
      " 1   url       136457 non-null  object\n",
      " 2   html      136457 non-null  object\n",
      " 3   time      136457 non-null  object\n",
      " 4   text      136457 non-null  object\n",
      " 5   table     136457 non-null  object\n",
      " 6   occurred  136457 non-null  object\n",
      " 7   reported  136457 non-null  object\n",
      " 8   posted    136457 non-null  object\n",
      " 9   location  136457 non-null  object\n",
      " 10  shape     136457 non-null  object\n",
      " 11  duration  136457 non-null  object\n",
      "dtypes: object(12)\n",
      "memory usage: 18.5+ MB\n"
     ]
    }
   ],
   "source": [
    "temp.info()"
   ]
  },
  {
   "cell_type": "markdown",
   "metadata": {},
   "source": [
    "#### Save data as pickle file before you lose all your work!"
   ]
  },
  {
   "cell_type": "code",
   "execution_count": 338,
   "metadata": {},
   "outputs": [],
   "source": [
    "temp.to_pickle('data/temp.pkl')"
   ]
  },
  {
   "cell_type": "markdown",
   "metadata": {},
   "source": [
    "### Data Cleaning time"
   ]
  },
  {
   "cell_type": "code",
   "execution_count": 337,
   "metadata": {},
   "outputs": [
    {
     "data": {
      "text/plain": [
       "0           5/6/2017 4:10:01 AM 04:10\n",
       "1           5/6/2017 5:00:54 AM 05:00\n",
       "2          5/5/2017 12:18:44 PM 12:18\n",
       "3           5/5/2017 3:49:05 AM 03:49\n",
       "4          5/4/2017 10:38:52 PM 22:38\n",
       "                     ...             \n",
       "136489                1/21/1998 19:06\n",
       "136490                3/27/1997 18:08\n",
       "136491                1/21/1998 18:22\n",
       "136492                1/18/1998 10:05\n",
       "136493                 2/1/1998 01:47\n",
       "Name: reported, Length: 136457, dtype: object"
      ]
     },
     "execution_count": 337,
     "metadata": {},
     "output_type": "execute_result"
    }
   ],
   "source": [
    "temp['reported'].apply(lambda x: x.replace('Reported:', '') if isinstance(x, str) else x)"
   ]
  },
  {
   "cell_type": "code",
   "execution_count": 345,
   "metadata": {},
   "outputs": [
    {
     "data": {
      "text/plain": [
       "Int64Index([  4306,   4308,   4309,   4310,   4312,   4314,   4315,   4316,\n",
       "              4317,   4319,   4320,   4321,   4323,   4324,   4325,   4326,\n",
       "              4327,   4328,   4330,   4331,   4333,   4334,   4335,   4336,\n",
       "              4337,   4338,   4339,   4340,   4344,   4345,   7446,   7616,\n",
       "             18334,  19578,  19628,  30306,  30308,  30309,  30310,  30312,\n",
       "             30314,  30315,  30316,  30317,  30319,  30320,  30321,  30323,\n",
       "             30324,  30325,  30326,  30327,  30328,  30330,  30331,  30333,\n",
       "             30334,  30335,  30336,  30337,  30338,  30339,  30340,  30344,\n",
       "             30345,  33446,  33616,  44334,  45578,  45628,  64640,  65320,\n",
       "             65323,  82450,  82459,  92126, 106414, 111928, 111929, 113116,\n",
       "            113121, 113154, 113188, 113212, 117309, 122463, 123645, 132345,\n",
       "            133032],\n",
       "           dtype='int64')"
      ]
     },
     "execution_count": 345,
     "metadata": {},
     "output_type": "execute_result"
    }
   ],
   "source": [
    "temp[temp['reported'].apply(lambda x: isinstance(x, list))].index"
   ]
  },
  {
   "cell_type": "markdown",
   "metadata": {},
   "source": [
    "### Drop \"Page Cannot be Found\" entries (save 132345 and 117309)"
   ]
  },
  {
   "cell_type": "code",
   "execution_count": 348,
   "metadata": {},
   "outputs": [
    {
     "name": "stderr",
     "output_type": "stream",
     "text": [
      "/opt/anaconda3/lib/python3.8/site-packages/pandas/core/frame.py:3990: SettingWithCopyWarning: \n",
      "A value is trying to be set on a copy of a slice from a DataFrame\n",
      "\n",
      "See the caveats in the documentation: https://pandas.pydata.org/pandas-docs/stable/user_guide/indexing.html#returning-a-view-versus-a-copy\n",
      "  return super().drop(\n"
     ]
    }
   ],
   "source": [
    "temp.drop([4306,   4308,   4309,   4310,   4312,   4314,   4315,   4316,\n",
    "              4317,   4319,   4320,   4321,   4323,   4324,   4325,   4326,\n",
    "              4327,   4328,   4330,   4331,   4333,   4334,   4335,   4336,\n",
    "              4337,   4338,   4339,   4340,   4344,   4345,   7446,   7616,\n",
    "             18334,  19578,  19628,  30306,  30308,  30309,  30310,  30312,\n",
    "             30314,  30315,  30316,  30317,  30319,  30320,  30321,  30323,\n",
    "             30324,  30325,  30326,  30327,  30328,  30330,  30331,  30333,\n",
    "             30334,  30335,  30336,  30337,  30338,  30339,  30340,  30344,\n",
    "             30345,  33446,  33616,  44334,  45578,  45628,  64640,  65320,\n",
    "             65323,  82450,  82459,  92126, 106414, 111928, 111929, 113116,\n",
    "            113121, 113154, 113188, 113212, 122463, 123645, 133032], inplace=True)"
   ]
  },
  {
   "cell_type": "markdown",
   "metadata": {},
   "source": [
    "### Fix anomalies"
   ]
  },
  {
   "cell_type": "code",
   "execution_count": 356,
   "metadata": {},
   "outputs": [
    {
     "data": {
      "text/html": [
       "<div>\n",
       "<style scoped>\n",
       "    .dataframe tbody tr th:only-of-type {\n",
       "        vertical-align: middle;\n",
       "    }\n",
       "\n",
       "    .dataframe tbody tr th {\n",
       "        vertical-align: top;\n",
       "    }\n",
       "\n",
       "    .dataframe thead th {\n",
       "        text-align: right;\n",
       "    }\n",
       "</style>\n",
       "<table border=\"1\" class=\"dataframe\">\n",
       "  <thead>\n",
       "    <tr style=\"text-align: right;\">\n",
       "      <th></th>\n",
       "      <th>_id</th>\n",
       "      <th>url</th>\n",
       "      <th>html</th>\n",
       "      <th>time</th>\n",
       "      <th>text</th>\n",
       "      <th>table</th>\n",
       "      <th>occurred</th>\n",
       "      <th>reported</th>\n",
       "      <th>posted</th>\n",
       "      <th>location</th>\n",
       "      <th>shape</th>\n",
       "      <th>duration</th>\n",
       "    </tr>\n",
       "  </thead>\n",
       "  <tbody>\n",
       "    <tr>\n",
       "      <th>117309</th>\n",
       "      <td>{'$oid': '591d3faab6747c5f388797a6'}</td>\n",
       "      <td>http://www.nuforc.org/webreports/027/S27173.html\\n</td>\n",
       "      <td>&lt;!DOCTYPE HTML PUBLIC \"-//W3C//DTD HTML 4.0 Transitional//EN\"&gt;\\r\\n&lt;HTML&gt;\\r\\n&lt;HEAD&gt;\\r\\n   &lt;META HTTP-EQUIV=\"Content-Type\" CONTENT=\"text/html; charset=iso-8859-1\"&gt;\\r\\n   &lt;META NAME=\"GENERATOR\" CONTENT=\"Microsoft FrontPage 4.0\"&gt;\\r\\n&lt;/HEAD&gt;\\r\\n&lt;BODY&gt;\\r\\n\\r\\n&lt;CENTER&gt;&lt;FONT FACE=\"Arial,Helvetica\"&gt;&amp;nbsp...</td>\n",
       "      <td>Thu May 18 06:31:06 2017</td>\n",
       "      <td>this is the third time i have seen these objects in less than a month in this area after the first time i was so scared that i wasn't sure if i had seen what i was sure i saw.....but since that first time i have been driven to try and explain what i have been seeing..so a friend and i went to th...</td>\n",
       "      <td>[&lt;td bordercolor=\"#c0c0c0\"&gt;&lt;font color=\"#000000\" face=\"Arial\" style=\"FONT-SIZE:10pt\"&gt;Occurred : 1/18/2003 02:30  (Entered as : 1-18-03 2:30 am), Reported: 1/20/2003 7:21:57 AM 07:21, Posted: 3/21/2003, Location: , Moundville, AL, Shape: Changing, Duration:45 min]</td>\n",
       "      <td>[&lt;td bordercolor=\"#c0c0c0\"&gt;&lt;font color=\"#000000\" face=\"Arial\" style=\"FONT-SIZE:10pt\"&gt;Occurred : 1/18/2003 02:30  (Entered as : 1-18-03 2:30 am), Reported: 1/20/2003 7:21:57 AM 07:21, Posted: 3/21/2003, Location: , Moundville, AL, Shape: Changing, Duration:45 min]</td>\n",
       "      <td>[&lt;td bordercolor=\"#c0c0c0\"&gt;&lt;font color=\"#000000\" face=\"Arial\" style=\"FONT-SIZE:10pt\"&gt;Occurred : 1/18/2003 02:30  (Entered as : 1-18-03 2:30 am), Reported: 1/20/2003 7:21:57 AM 07:21, Posted: 3/21/2003, Location: , Moundville, AL, Shape: Changing, Duration:45 min]</td>\n",
       "      <td>[&lt;td bordercolor=\"#c0c0c0\"&gt;&lt;font color=\"#000000\" face=\"Arial\" style=\"FONT-SIZE:10pt\"&gt;Occurred : 1/18/2003 02:30  (Entered as : 1-18-03 2:30 am), Reported: 1/20/2003 7:21:57 AM 07:21, Posted: 3/21/2003, Location: , Moundville, AL, Shape: Changing, Duration:45 min]</td>\n",
       "      <td>[&lt;td bordercolor=\"#c0c0c0\"&gt;&lt;font color=\"#000000\" face=\"Arial\" style=\"FONT-SIZE:10pt\"&gt;Occurred : 1/18/2003 02:30  (Entered as : 1-18-03 2:30 am), Reported: 1/20/2003 7:21:57 AM 07:21, Posted: 3/21/2003, Location: , Moundville, AL, Shape: Changing, Duration:45 min]</td>\n",
       "      <td>[&lt;td bordercolor=\"#c0c0c0\"&gt;&lt;font color=\"#000000\" face=\"Arial\" style=\"FONT-SIZE:10pt\"&gt;Occurred : 1/18/2003 02:30  (Entered as : 1-18-03 2:30 am), Reported: 1/20/2003 7:21:57 AM 07:21, Posted: 3/21/2003, Location: , Moundville, AL, Shape: Changing, Duration:45 min]</td>\n",
       "      <td>[&lt;td bordercolor=\"#c0c0c0\"&gt;&lt;font color=\"#000000\" face=\"Arial\" style=\"FONT-SIZE:10pt\"&gt;Occurred : 1/18/2003 02:30  (Entered as : 1-18-03 2:30 am), Reported: 1/20/2003 7:21:57 AM 07:21, Posted: 3/21/2003, Location: , Moundville, AL, Shape: Changing, Duration:45 min]</td>\n",
       "    </tr>\n",
       "    <tr>\n",
       "      <th>132345</th>\n",
       "      <td>{'$oid': '591dc5ecb6747c5f3887d262'}</td>\n",
       "      <td>http://www.nuforc.org/webreports/010/S10139.html\\n</td>\n",
       "      <td>&lt;!DOCTYPE HTML PUBLIC \"-//W3C//DTD HTML 4.0 Transitional//EN\"&gt;\\r\\n&lt;HTML&gt;\\r\\n&lt;HEAD&gt;\\r\\n   &lt;META HTTP-EQUIV=\"Content-Type\" CONTENT=\"text/html; charset=iso-8859-1\"&gt;\\r\\n   &lt;META NAME=\"GENERATOR\" CONTENT=\"Microsoft FrontPage 4.0\"&gt;\\r\\n&lt;/HEAD&gt;\\r\\n&lt;BODY&gt;\\r\\n\\r\\n&lt;CENTER&gt;&lt;FONT FACE=\"Arial,Helvetica\"&gt;&amp;nbsp...</td>\n",
       "      <td>Thu May 18 16:03:56 2017</td>\n",
       "      <td>seen in the distance, lights that went around the craft in a strob,circeler around it. was hovering for about 3 min's and went stright up and disaperd.seen in the distance, lights that went around the craft in a strob,circeler around it. was hovering for about 3 min's and went stright up and dis...</td>\n",
       "      <td>[&lt;td bordercolor=\"#c0c0c0\"&gt;&lt;font color=\"#000000\" face=\"Arial\" style=\"FONT-SIZE:10pt\"&gt;Occurred : 10/6/1999 22:46  (Entered as : 10/06/99 22:46), Reported: 10/7/1999 04:36, Posted: 3/21/2003, Location: May's Landing, Mays Landing, NJ, Shape: Disk, Duration:3 min]</td>\n",
       "      <td>[&lt;td bordercolor=\"#c0c0c0\"&gt;&lt;font color=\"#000000\" face=\"Arial\" style=\"FONT-SIZE:10pt\"&gt;Occurred : 10/6/1999 22:46  (Entered as : 10/06/99 22:46), Reported: 10/7/1999 04:36, Posted: 3/21/2003, Location: May's Landing, Mays Landing, NJ, Shape: Disk, Duration:3 min]</td>\n",
       "      <td>[&lt;td bordercolor=\"#c0c0c0\"&gt;&lt;font color=\"#000000\" face=\"Arial\" style=\"FONT-SIZE:10pt\"&gt;Occurred : 10/6/1999 22:46  (Entered as : 10/06/99 22:46), Reported: 10/7/1999 04:36, Posted: 3/21/2003, Location: May's Landing, Mays Landing, NJ, Shape: Disk, Duration:3 min]</td>\n",
       "      <td>[&lt;td bordercolor=\"#c0c0c0\"&gt;&lt;font color=\"#000000\" face=\"Arial\" style=\"FONT-SIZE:10pt\"&gt;Occurred : 10/6/1999 22:46  (Entered as : 10/06/99 22:46), Reported: 10/7/1999 04:36, Posted: 3/21/2003, Location: May's Landing, Mays Landing, NJ, Shape: Disk, Duration:3 min]</td>\n",
       "      <td>[&lt;td bordercolor=\"#c0c0c0\"&gt;&lt;font color=\"#000000\" face=\"Arial\" style=\"FONT-SIZE:10pt\"&gt;Occurred : 10/6/1999 22:46  (Entered as : 10/06/99 22:46), Reported: 10/7/1999 04:36, Posted: 3/21/2003, Location: May's Landing, Mays Landing, NJ, Shape: Disk, Duration:3 min]</td>\n",
       "      <td>[&lt;td bordercolor=\"#c0c0c0\"&gt;&lt;font color=\"#000000\" face=\"Arial\" style=\"FONT-SIZE:10pt\"&gt;Occurred : 10/6/1999 22:46  (Entered as : 10/06/99 22:46), Reported: 10/7/1999 04:36, Posted: 3/21/2003, Location: May's Landing, Mays Landing, NJ, Shape: Disk, Duration:3 min]</td>\n",
       "      <td>[&lt;td bordercolor=\"#c0c0c0\"&gt;&lt;font color=\"#000000\" face=\"Arial\" style=\"FONT-SIZE:10pt\"&gt;Occurred : 10/6/1999 22:46  (Entered as : 10/06/99 22:46), Reported: 10/7/1999 04:36, Posted: 3/21/2003, Location: May's Landing, Mays Landing, NJ, Shape: Disk, Duration:3 min]</td>\n",
       "    </tr>\n",
       "  </tbody>\n",
       "</table>\n",
       "</div>"
      ],
      "text/plain": [
       "                                         _id  \\\n",
       "117309  {'$oid': '591d3faab6747c5f388797a6'}   \n",
       "132345  {'$oid': '591dc5ecb6747c5f3887d262'}   \n",
       "\n",
       "                                                       url  \\\n",
       "117309  http://www.nuforc.org/webreports/027/S27173.html\\n   \n",
       "132345  http://www.nuforc.org/webreports/010/S10139.html\\n   \n",
       "\n",
       "                                                                                                                                                                                                                                                                                                               html  \\\n",
       "117309  <!DOCTYPE HTML PUBLIC \"-//W3C//DTD HTML 4.0 Transitional//EN\">\\r\\n<HTML>\\r\\n<HEAD>\\r\\n   <META HTTP-EQUIV=\"Content-Type\" CONTENT=\"text/html; charset=iso-8859-1\">\\r\\n   <META NAME=\"GENERATOR\" CONTENT=\"Microsoft FrontPage 4.0\">\\r\\n</HEAD>\\r\\n<BODY>\\r\\n\\r\\n<CENTER><FONT FACE=\"Arial,Helvetica\">&nbsp...   \n",
       "132345  <!DOCTYPE HTML PUBLIC \"-//W3C//DTD HTML 4.0 Transitional//EN\">\\r\\n<HTML>\\r\\n<HEAD>\\r\\n   <META HTTP-EQUIV=\"Content-Type\" CONTENT=\"text/html; charset=iso-8859-1\">\\r\\n   <META NAME=\"GENERATOR\" CONTENT=\"Microsoft FrontPage 4.0\">\\r\\n</HEAD>\\r\\n<BODY>\\r\\n\\r\\n<CENTER><FONT FACE=\"Arial,Helvetica\">&nbsp...   \n",
       "\n",
       "                            time  \\\n",
       "117309  Thu May 18 06:31:06 2017   \n",
       "132345  Thu May 18 16:03:56 2017   \n",
       "\n",
       "                                                                                                                                                                                                                                                                                                               text  \\\n",
       "117309  this is the third time i have seen these objects in less than a month in this area after the first time i was so scared that i wasn't sure if i had seen what i was sure i saw.....but since that first time i have been driven to try and explain what i have been seeing..so a friend and i went to th...   \n",
       "132345  seen in the distance, lights that went around the craft in a strob,circeler around it. was hovering for about 3 min's and went stright up and disaperd.seen in the distance, lights that went around the craft in a strob,circeler around it. was hovering for about 3 min's and went stright up and dis...   \n",
       "\n",
       "                                                                                                                                                                                                                                                                          table  \\\n",
       "117309  [<td bordercolor=\"#c0c0c0\"><font color=\"#000000\" face=\"Arial\" style=\"FONT-SIZE:10pt\">Occurred : 1/18/2003 02:30  (Entered as : 1-18-03 2:30 am), Reported: 1/20/2003 7:21:57 AM 07:21, Posted: 3/21/2003, Location: , Moundville, AL, Shape: Changing, Duration:45 min]   \n",
       "132345    [<td bordercolor=\"#c0c0c0\"><font color=\"#000000\" face=\"Arial\" style=\"FONT-SIZE:10pt\">Occurred : 10/6/1999 22:46  (Entered as : 10/06/99 22:46), Reported: 10/7/1999 04:36, Posted: 3/21/2003, Location: May's Landing, Mays Landing, NJ, Shape: Disk, Duration:3 min]   \n",
       "\n",
       "                                                                                                                                                                                                                                                                       occurred  \\\n",
       "117309  [<td bordercolor=\"#c0c0c0\"><font color=\"#000000\" face=\"Arial\" style=\"FONT-SIZE:10pt\">Occurred : 1/18/2003 02:30  (Entered as : 1-18-03 2:30 am), Reported: 1/20/2003 7:21:57 AM 07:21, Posted: 3/21/2003, Location: , Moundville, AL, Shape: Changing, Duration:45 min]   \n",
       "132345    [<td bordercolor=\"#c0c0c0\"><font color=\"#000000\" face=\"Arial\" style=\"FONT-SIZE:10pt\">Occurred : 10/6/1999 22:46  (Entered as : 10/06/99 22:46), Reported: 10/7/1999 04:36, Posted: 3/21/2003, Location: May's Landing, Mays Landing, NJ, Shape: Disk, Duration:3 min]   \n",
       "\n",
       "                                                                                                                                                                                                                                                                       reported  \\\n",
       "117309  [<td bordercolor=\"#c0c0c0\"><font color=\"#000000\" face=\"Arial\" style=\"FONT-SIZE:10pt\">Occurred : 1/18/2003 02:30  (Entered as : 1-18-03 2:30 am), Reported: 1/20/2003 7:21:57 AM 07:21, Posted: 3/21/2003, Location: , Moundville, AL, Shape: Changing, Duration:45 min]   \n",
       "132345    [<td bordercolor=\"#c0c0c0\"><font color=\"#000000\" face=\"Arial\" style=\"FONT-SIZE:10pt\">Occurred : 10/6/1999 22:46  (Entered as : 10/06/99 22:46), Reported: 10/7/1999 04:36, Posted: 3/21/2003, Location: May's Landing, Mays Landing, NJ, Shape: Disk, Duration:3 min]   \n",
       "\n",
       "                                                                                                                                                                                                                                                                         posted  \\\n",
       "117309  [<td bordercolor=\"#c0c0c0\"><font color=\"#000000\" face=\"Arial\" style=\"FONT-SIZE:10pt\">Occurred : 1/18/2003 02:30  (Entered as : 1-18-03 2:30 am), Reported: 1/20/2003 7:21:57 AM 07:21, Posted: 3/21/2003, Location: , Moundville, AL, Shape: Changing, Duration:45 min]   \n",
       "132345    [<td bordercolor=\"#c0c0c0\"><font color=\"#000000\" face=\"Arial\" style=\"FONT-SIZE:10pt\">Occurred : 10/6/1999 22:46  (Entered as : 10/06/99 22:46), Reported: 10/7/1999 04:36, Posted: 3/21/2003, Location: May's Landing, Mays Landing, NJ, Shape: Disk, Duration:3 min]   \n",
       "\n",
       "                                                                                                                                                                                                                                                                       location  \\\n",
       "117309  [<td bordercolor=\"#c0c0c0\"><font color=\"#000000\" face=\"Arial\" style=\"FONT-SIZE:10pt\">Occurred : 1/18/2003 02:30  (Entered as : 1-18-03 2:30 am), Reported: 1/20/2003 7:21:57 AM 07:21, Posted: 3/21/2003, Location: , Moundville, AL, Shape: Changing, Duration:45 min]   \n",
       "132345    [<td bordercolor=\"#c0c0c0\"><font color=\"#000000\" face=\"Arial\" style=\"FONT-SIZE:10pt\">Occurred : 10/6/1999 22:46  (Entered as : 10/06/99 22:46), Reported: 10/7/1999 04:36, Posted: 3/21/2003, Location: May's Landing, Mays Landing, NJ, Shape: Disk, Duration:3 min]   \n",
       "\n",
       "                                                                                                                                                                                                                                                                          shape  \\\n",
       "117309  [<td bordercolor=\"#c0c0c0\"><font color=\"#000000\" face=\"Arial\" style=\"FONT-SIZE:10pt\">Occurred : 1/18/2003 02:30  (Entered as : 1-18-03 2:30 am), Reported: 1/20/2003 7:21:57 AM 07:21, Posted: 3/21/2003, Location: , Moundville, AL, Shape: Changing, Duration:45 min]   \n",
       "132345    [<td bordercolor=\"#c0c0c0\"><font color=\"#000000\" face=\"Arial\" style=\"FONT-SIZE:10pt\">Occurred : 10/6/1999 22:46  (Entered as : 10/06/99 22:46), Reported: 10/7/1999 04:36, Posted: 3/21/2003, Location: May's Landing, Mays Landing, NJ, Shape: Disk, Duration:3 min]   \n",
       "\n",
       "                                                                                                                                                                                                                                                                       duration  \n",
       "117309  [<td bordercolor=\"#c0c0c0\"><font color=\"#000000\" face=\"Arial\" style=\"FONT-SIZE:10pt\">Occurred : 1/18/2003 02:30  (Entered as : 1-18-03 2:30 am), Reported: 1/20/2003 7:21:57 AM 07:21, Posted: 3/21/2003, Location: , Moundville, AL, Shape: Changing, Duration:45 min]  \n",
       "132345    [<td bordercolor=\"#c0c0c0\"><font color=\"#000000\" face=\"Arial\" style=\"FONT-SIZE:10pt\">Occurred : 10/6/1999 22:46  (Entered as : 10/06/99 22:46), Reported: 10/7/1999 04:36, Posted: 3/21/2003, Location: May's Landing, Mays Landing, NJ, Shape: Disk, Duration:3 min]  "
      ]
     },
     "execution_count": 356,
     "metadata": {},
     "output_type": "execute_result"
    }
   ],
   "source": [
    "temp[temp['reported'].apply(lambda x: isinstance(x, list))]"
   ]
  },
  {
   "cell_type": "code",
   "execution_count": 357,
   "metadata": {},
   "outputs": [],
   "source": [
    "anomalies = temp[temp['reported'].apply(lambda x: isinstance(x, list))]"
   ]
  },
  {
   "cell_type": "code",
   "execution_count": 373,
   "metadata": {},
   "outputs": [
    {
     "name": "stderr",
     "output_type": "stream",
     "text": [
      "/opt/anaconda3/lib/python3.8/site-packages/pandas/core/indexing.py:671: SettingWithCopyWarning: \n",
      "A value is trying to be set on a copy of a slice from a DataFrame\n",
      "\n",
      "See the caveats in the documentation: https://pandas.pydata.org/pandas-docs/stable/user_guide/indexing.html#returning-a-view-versus-a-copy\n",
      "  self._setitem_with_indexer(indexer, value)\n",
      "<ipython-input-373-4bea86ae3b08>:1: SettingWithCopyWarning: \n",
      "A value is trying to be set on a copy of a slice from a DataFrame\n",
      "\n",
      "See the caveats in the documentation: https://pandas.pydata.org/pandas-docs/stable/user_guide/indexing.html#returning-a-view-versus-a-copy\n",
      "  temp.loc[117309,'table'] = ['Occurred : 1/18/2003 02:30  (Entered as : 1-18-03 2:30 am)', 'Reported: 1/20/2003 7:21:57 AM 07:21', 'Posted: 3/21/2003','Location: Moundville, AL', 'Shape: Changing', 'Duration:45 min']\n"
     ]
    }
   ],
   "source": [
    "temp.loc[117309,'table'] = ['Occurred : 1/18/2003 02:30  (Entered as : 1-18-03 2:30 am)', 'Reported: 1/20/2003 7:21:57 AM 07:21', 'Posted: 3/21/2003','Location: Moundville, AL', 'Shape: Changing', 'Duration:45 min']"
   ]
  },
  {
   "cell_type": "code",
   "execution_count": 374,
   "metadata": {},
   "outputs": [
    {
     "data": {
      "text/plain": [
       "['Occurred : 1/18/2003 02:30  (Entered as : 1-18-03 2:30 am)',\n",
       " 'Reported: 1/20/2003 7:21:57 AM 07:21',\n",
       " 'Posted: 3/21/2003',\n",
       " 'Location: Moundville, AL',\n",
       " 'Shape: Changing',\n",
       " 'Duration:45 min']"
      ]
     },
     "execution_count": 374,
     "metadata": {},
     "output_type": "execute_result"
    }
   ],
   "source": [
    "temp.loc[117309, 'table']"
   ]
  },
  {
   "cell_type": "code",
   "execution_count": 376,
   "metadata": {},
   "outputs": [
    {
     "name": "stderr",
     "output_type": "stream",
     "text": [
      "<ipython-input-376-939a2431caf3>:1: SettingWithCopyWarning: \n",
      "A value is trying to be set on a copy of a slice from a DataFrame\n",
      "\n",
      "See the caveats in the documentation: https://pandas.pydata.org/pandas-docs/stable/user_guide/indexing.html#returning-a-view-versus-a-copy\n",
      "  temp.loc[132345, 'table'] = ['Occurred : 10/6/1999 22:46  (Entered as : 10/06/99 22:46)', 'Reported: 10/7/1999 04:36', 'Posted: 3/21/2003', \"Location: May's Landing, NJ\", 'Shape: Disk', 'Duration:3 min']\n"
     ]
    }
   ],
   "source": [
    "temp.loc[132345, 'table'] = ['Occurred : 10/6/1999 22:46  (Entered as : 10/06/99 22:46)', 'Reported: 10/7/1999 04:36', 'Posted: 3/21/2003', \"Location: May's Landing, NJ\", 'Shape: Disk', 'Duration:3 min']"
   ]
  },
  {
   "cell_type": "code",
   "execution_count": 377,
   "metadata": {},
   "outputs": [
    {
     "data": {
      "text/plain": [
       "['Occurred : 10/6/1999 22:46  (Entered as : 10/06/99 22:46)',\n",
       " 'Reported: 10/7/1999 04:36',\n",
       " 'Posted: 3/21/2003',\n",
       " \"Location: May's Landing, NJ\",\n",
       " 'Shape: Disk',\n",
       " 'Duration:3 min']"
      ]
     },
     "execution_count": 377,
     "metadata": {},
     "output_type": "execute_result"
    }
   ],
   "source": [
    "temp.loc[132345, 'table']"
   ]
  },
  {
   "cell_type": "code",
   "execution_count": 386,
   "metadata": {},
   "outputs": [
    {
     "name": "stderr",
     "output_type": "stream",
     "text": [
      "<ipython-input-386-019bdb318971>:2: SettingWithCopyWarning: \n",
      "A value is trying to be set on a copy of a slice from a DataFrame\n",
      "\n",
      "See the caveats in the documentation: https://pandas.pydata.org/pandas-docs/stable/user_guide/indexing.html#returning-a-view-versus-a-copy\n",
      "  temp.loc[132345, name] = temp.loc[132345,'table'][ind]\n"
     ]
    }
   ],
   "source": [
    "for ind, name in enumerate(col_names):\n",
    "    temp.loc[132345, name] = temp.loc[132345,'table'][ind]"
   ]
  },
  {
   "cell_type": "markdown",
   "metadata": {},
   "source": [
    "### One last check to ensure we are clean before moving on "
   ]
  },
  {
   "cell_type": "code",
   "execution_count": 390,
   "metadata": {},
   "outputs": [
    {
     "name": "stdout",
     "output_type": "stream",
     "text": [
      "Int64Index([], dtype='int64')\n",
      "Int64Index([], dtype='int64')\n",
      "Int64Index([], dtype='int64')\n",
      "Int64Index([], dtype='int64')\n",
      "Int64Index([], dtype='int64')\n",
      "Int64Index([], dtype='int64')\n"
     ]
    }
   ],
   "source": [
    "for name in col_names:\n",
    "    print(temp[temp[name].apply(lambda x: isinstance(x, list))].index)"
   ]
  },
  {
   "cell_type": "markdown",
   "metadata": {},
   "source": [
    "### Clean!!!"
   ]
  },
  {
   "cell_type": "markdown",
   "metadata": {},
   "source": [
    "### Data Cleaning time\n",
    "- remove \"Reported\"\n",
    "- remove \"Posted\" \n",
    "- remove \"Location\"\n",
    "- remove \"Shape\"\n",
    "- remove \"Duration\""
   ]
  },
  {
   "cell_type": "code",
   "execution_count": 400,
   "metadata": {},
   "outputs": [],
   "source": [
    "from NLP_Case_study import removal\n",
    "cleaned = temp.copy()"
   ]
  },
  {
   "cell_type": "code",
   "execution_count": null,
   "metadata": {},
   "outputs": [],
   "source": [
    "for name in col_names:\n",
    "    temp[name].apply(removal, name=name)"
   ]
  },
  {
   "cell_type": "code",
   "execution_count": 401,
   "metadata": {},
   "outputs": [],
   "source": [
    "cleaned['occurred'] = cleaned['occurred'].apply(removal, name=test)"
   ]
  },
  {
   "cell_type": "markdown",
   "metadata": {},
   "source": [
    "### Remove indices where the table column entry is greater than six which indicates bad html"
   ]
  },
  {
   "cell_type": "code",
   "execution_count": 416,
   "metadata": {},
   "outputs": [],
   "source": [
    "bad_table_index = temp['table'][temp.table.apply(lambda x: len(x) > 6)].index"
   ]
  },
  {
   "cell_type": "code",
   "execution_count": 417,
   "metadata": {},
   "outputs": [],
   "source": [
    "cleaned.drop(bad_table_index, inplace=True)"
   ]
  },
  {
   "cell_type": "code",
   "execution_count": 419,
   "metadata": {},
   "outputs": [
    {
     "data": {
      "text/plain": [
       "Series([], Name: table, dtype: object)"
      ]
     },
     "execution_count": 419,
     "metadata": {},
     "output_type": "execute_result"
    }
   ],
   "source": [
    "cleaned['table'][cleaned.table.apply(lambda x: len(x) > 6)]"
   ]
  },
  {
   "cell_type": "markdown",
   "metadata": {},
   "source": [
    "# Make sure to come back to this ugliness!"
   ]
  },
  {
   "cell_type": "code",
   "execution_count": 425,
   "metadata": {},
   "outputs": [
    {
     "data": {
      "text/plain": [
       "2927                                      10/11/2016 13:35  (Entered as : 10-11-2016 1:35 PM)\n",
       "3238                                      9/26/2016 07:30  (Entered as : 09/26/2016 07:30 AM)\n",
       "5091                 6/27/2016 03:46  (Entered as : 27th June 2016 03.46 AM Local Jakarta Ti)\n",
       "7047                                      2/11/2016 06:45  (Entered as : 02/11/2016 7:40 a.m)\n",
       "7051                                     2/10/2016 19:30  (Entered as : 02/9&amp;10/16 19:30)\n",
       "7772                                      12/30/2015 19:30  (Entered as : 12/30/2015 7:30 pm)\n",
       "8150                                      12/5/2015 10:56  (Entered as : December 0 10:56 am)\n",
       "15702                                     11/27/2014 05:45  (Entered as : 11/27/2014 5:45 PM)\n",
       "17499                                     9/18/2014 02:08  (Entered as : 18/09/2014 02:08 AM)\n",
       "19227                                     7/19/2014 21:40  (Entered as : 07/19/2014 2140 hrs)\n",
       "21568                                     4/29/2014 22:30  (Entered as : 04/29/2014 10:30 PM)\n",
       "22302                                     3/29/2014 05:30  (Entered as : 03/29/1417 05:30 AM)\n",
       "22615                                     3/13/2014 04:00  (Entered as : 03/13/2014 4:00 = 6)\n",
       "28927                                     10/11/2016 13:35  (Entered as : 10-11-2016 1:35 PM)\n",
       "29238                                     9/26/2016 07:30  (Entered as : 09/26/2016 07:30 AM)\n",
       "31091                6/27/2016 03:46  (Entered as : 27th June 2016 03.46 AM Local Jakarta Ti)\n",
       "33047                                     2/11/2016 06:45  (Entered as : 02/11/2016 7:40 a.m)\n",
       "33051                                    2/10/2016 19:30  (Entered as : 02/9&amp;10/16 19:30)\n",
       "33772                                     12/30/2015 19:30  (Entered as : 12/30/2015 7:30 pm)\n",
       "34150                                     12/5/2015 10:56  (Entered as : December 0 10:56 am)\n",
       "41702                                     11/27/2014 05:45  (Entered as : 11/27/2014 5:45 PM)\n",
       "43499                                     9/18/2014 02:08  (Entered as : 18/09/2014 02:08 AM)\n",
       "45227                                     7/19/2014 21:40  (Entered as : 07/19/2014 2140 hrs)\n",
       "47568                                     4/29/2014 22:30  (Entered as : 04/29/2014 10:30 PM)\n",
       "48302                                     3/29/2014 05:30  (Entered as : 03/29/1417 05:30 AM)\n",
       "48615                                     3/13/2014 04:00  (Entered as : 03/13/2014 4:00 = 6)\n",
       "52079                                    10/27/2013 04:26  (Entered as : 27/10/2913 04:26 am)\n",
       "53089                                     9/24/2013 05:30  (Entered as : 09/24/2013 05:30 pm)\n",
       "53235                                    9/18/2013 22:00  (Entered as : 9/1&amp;2/2013 22:00)\n",
       "53983                                     8/22/2013 00:00  (Entered as : 08/22/2013 24:00 pm)\n",
       "53997                            8/21/2013 14:15  (Entered as : &amp;#8206;08/21/13 14:15:36)\n",
       "54766                                    7/17/2013 23:00  (Entered as : July 17&amp;25 23:00)\n",
       "55642                                     2/19/2013 00:30  (Entered as : 02/19/2103 12:30 pm)\n",
       "55647                                     10/30/2007 21:00  (Entered as : 2007-2008 20:00-23)\n",
       "56405                                     5/31/2013 10:30  (Entered as : 05/31/2013 10:30:00)\n",
       "56640                                     5/17/2013 10:00  (Entered as : 05/17/2013 10:00 pm)\n",
       "58532                                     12/31/2012 22:30  (Entered as : 31/12.2012 10.30pm)\n",
       "60152                                    10/31/2012 10:00  (Entered as : 10/31/2012 10:00 am)\n",
       "60753                                    10/1/2012 20:00  (Entered as : 10/ 1&amp;2/12 20:00)\n",
       "61026                                    10/26/2002 01:50  (Entered as : 10/26/2002 01:50 am)\n",
       "61950                                     8/6/2012 22:30  (Entered as : 8-6/7 &amp; 21 10:30)\n",
       "62818                                     7/21/2012 10:30  (Entered as : 07/am21/12 10:30 AM)\n",
       "64774                                     5/16/2012 23:15  (Entered as : 05/16/2012 23:15 PM)\n",
       "66237                                     2/29/2012 20:00  (Entered as : 02/29/2012 20.00 pm)\n",
       "67447                                     12/24/2011 20:50  (Entered as : 12/24/2011 8:50 pm)\n",
       "68395                                    10/25/2011 21:30  (Entered as : 10/25/2011 21:30 pm)\n",
       "68604                                    6/30/2001 12:30  (Entered as : last summer 1230 noo)\n",
       "68913                                    10/14/2011 22:30  (Entered as : 10/14/2011 10:30 pm)\n",
       "69180                                     9/28/2011 21:18  (Entered as : 09/28/2011 21:18 MT)\n",
       "70631                                     7/17/2011 01:00  (Entered as : 7/17&amp;18/11 1:00)\n",
       "71601                              6/30/1972 05:00  (Entered as : 1972 &amp; '94 am &amp; pm)\n",
       "72865                                    2/10/2011 23:00  (Entered as : 02/10&amp;11/1 23:00)\n",
       "72866                                     2/10/2011 21:30  (Entered as : 2-2&amp;10-11 21:30)\n",
       "73009                                     5/15/1996 21:00  (Entered as : 05 00 1996 9:00= PM)\n",
       "73487                                     12/21/2010 06:30  (Entered as : 12/21/2010 6:30 AM)\n",
       "73843                                    11/19/2010 22:20  (Entered as : 11/19/2010 10:20 pm)\n",
       "74123                                     10/27/2010 23:20  (Entered as : 10/27/2010 23:20pm)\n",
       "74322                                     10/11/2010 04:00  (Entered as : 10-11-2010 04 00am)\n",
       "75429                                     8/14/2010 22:30  (Entered as : 08/14/2010 22:30 PM)\n",
       "75752                                     12/20/2009 05:45  (Entered as : 12/20/2009 5:45 PM)\n",
       "75815                                     10/15/1970 19:00  (Entered as : 01/10/1970 19.00pm)\n",
       "77655                                     3/22/2010 19:45  (Entered as : 22/03/2010 07:45 PM)\n",
       "79245                                     10/14/2009 01:30  (Entered as : 10/14/2009 1:30 am)\n",
       "80281                                    10/15/1981 09:00  (Entered as : 10/15/1981 09:00 AM)\n",
       "82407                                     4/15/2008 19:45  (Entered as : 04 15 2008 19:45 PM)\n",
       "83012                                     2/22/2009 19:00  (Entered as : 2/22/20098 07:00 pm)\n",
       "84572                                     11/20/2008 04:18  (Entered as : 11-20-2008 4:18 pm)\n",
       "85083                                     9/20/1998 20:00  (Entered as : 09/20/1998 20:00 PM)\n",
       "85179                                     8/25/1967 23:30  (Entered as : 08/25/1967 23:00 PM)\n",
       "86500                                     8/9/2008 17:30  (Entered as : 8/9 &amp;10/08 17:30)\n",
       "88185                                     4/21/2008 20:25  (Entered as : 04/21/2008 20:25 PM)\n",
       "89661                                     11/29/2007 05:45  (Entered as : 11/29/2007 5:45 PM)\n",
       "90321                                     2/13/1979 01:00  (Entered as : 02/13/1979 01:00 am)\n",
       "90947                                     11/13/2007 19:10  (Entered as : 11/13/2007 19:10PM)\n",
       "90971                                    11/11/2007 21:50  (Entered as : 11/11/2007 22:50 PM)\n",
       "91334                                     10/13/2007 02:25  (Entered as : 10/13/2007 2:25 am)\n",
       "93383                                     2/19/2007 16:00  (Entered as : 02/19/2007 16:00hrs)\n",
       "94283                          4/4/2007 21:45  (Entered as : 04/4/07  110 Time: 21:45  20:53)\n",
       "97569                                     8/22/2006 00:45  (Entered as : 08/22/2006 12:45 AM)\n",
       "97692                                     8/13/2006 11:30  (Entered as : 08/13/2006 11:30 AM)\n",
       "102105                                    7/31/1967 22:30  (Entered as : 07/31/1967 10:30 pm)\n",
       "102138                                    10/16/2005 17:39  (Entered as : 09/16/105 5:39 =pm)\n",
       "104651                                    5/19/2005 18:45  (Entered as : 05/19/1905 18:45 pm)\n",
       "106038                                    3/19/1977 19:00  (Entered as : 03/19/1977 19:00:00)\n",
       "106083                                    10/7/1973 21:00  (Entered as : 10/07/1973 09:00 PM)\n",
       "106831                                   10/10/1979 22:00  (Entered as : 10/10/1979 22:00 PM)\n",
       "107278                                   11/18/2004 00:34  (Entered as : 11/18/2004 12:34 AM)\n",
       "108593                                    8/30/2004 05:00  (Entered as : 08/30/1904 05:00:00)\n",
       "110011                                    12/22/1965 09:00  (Entered as : 12/22/1965 09:00 p)\n",
       "110186                                    5/16/2004 23:00  (Entered as : 05/16/2004 23:00=11)\n",
       "110341                                    2/29/2004 11:00  (Entered as : 02/29/2004 11:00 PM)\n",
       "111336                                    3/19/2004 23:30  (Entered as : 03/19/1904 11:30 PM)\n",
       "111813                                   12/22/2003 13:30  (Entered as : 12/22/2003 13:30 PM)\n",
       "111860                                   11/30/1996 22:00  (Entered as : 11/30/1996 22:00 PM)\n",
       "111861                                   11/29/1996 21:45  (Entered as : 11/29/1996 21:45 PM)\n",
       "111882                                    2/11/1989 22:00  (Entered as : 02/11/1989 22:00 PM)\n",
       "111911                                    5/12/1968 09:00  (Entered as : 05/12/1968 09:00 AM)\n",
       "111912                                    5/12/1968 09:00  (Entered as : 05/12/1968 09:00 AM)\n",
       "111936                                    2/11/2004 10:00  (Entered as : 02/11/2004 10:00 PM)\n",
       "112600                                    11/13/2003 01:30  (Entered as : 11/13/1903 1:30 AM)\n",
       "112914                                   11/26/2003 10:45  (Entered as : 11/26/2003 10:45 PM)\n",
       "113335                                    11/18/2003 19:00  (Entered as : 11/18/2003 19:00pm)\n",
       "113795                                    10/30/2003 04:35  (Entered as : 10/30/2003 4:35est)\n",
       "113907                                    10/19/2003 20:40  (Entered as : 10/19/2003 pm 2040)\n",
       "114515                                    9/27/2003 04:00  (Entered as : 09/27/2003 04:00 AM)\n",
       "115042                                    6/20/1990 14:30  (Entered as : 06-20-1990 14:30 pm)\n",
       "115116                                    8/30/2003 22:00  (Entered as : 08/30/2003 10:00 PM)\n",
       "115166                                    8/27/2003 19:30  (Entered as : 08/27/2003 19:30:00)\n",
       "115218                                   11/15/1979 22:30  (Entered as : 11/79-6/80 22:00-23)\n",
       "115294                                    8/23/2003 05:30  (Entered as : 8/23-28/03 05:30 am)\n",
       "115334                                    8/17/2003 19:36  (Entered as : 08/17/2003 1936 est)\n",
       "115528                                    7/15/2002 00:30  (Entered as : 15/07/2002 12h30p.m)\n",
       "115707                                    7/26/2003 21:00  (Entered as : 07/26/2003 21:00 pm)\n",
       "115748                                    3/10/2003 22:30  (Entered as : 03/10/0322 22:30 pm)\n",
       "115753                                    7/15/2002 23:00  (Entered as : 07/**/2003 11:00 PM)\n",
       "116150                                    2/12/2003 01:30  (Entered as : 02/12/2003 01:30 hr)\n",
       "116187                                    4/15/2001 20:30  (Entered as : Spring '01 20 or 21)\n",
       "116302                         6/15/2003 22:49  (Entered as : &lt;&lt;06/15/03 &lt;&lt;22:49)\n",
       "116524                                    11/16/1996 21:30  (Entered as : 11/16/1996 9:30 PM)\n",
       "116710                                    7/15/1961 06:30  (Entered as : July-Aug 1 6-6:30 m)\n",
       "117324                                    1/16/2003 00:30  (Entered as : 01-16=2003 12;30 am)\n",
       "117390                                    12/29/2002 02:25  (Entered as : 12/29/2002 2:25 AM)\n",
       "117413                                   12/15/2002 03:30  (Entered as : 12/na/2002 3:30 a.m)\n",
       "117563                                  11/15/1988 05:30  (Entered as : 11/15/88 5:30 A&gt;M)\n",
       "117649                                    11/15/1951 06:00  (Entered as : winter/51 0600 app)\n",
       "117789                                    12/26/2002 04:05  (Entered as : 12-26-2002 4:05 AM)\n",
       "117803                                    8/15/2002 23:00  (Entered as : Agust 2002 23:00 pm)\n",
       "117928                                   12/27/2002 02:00  (Entered as : 12/27/2002 02:00 am)\n",
       "117985                                    6/15/1989 21:00  (Entered as : ??/??/1989 21:00 pm)\n",
       "118014                                    2/17/2003 21:30  (Entered as : 02/17/2003 21:30 pm)\n",
       "118026                                    2/13/2003 02:30  (Entered as : 13/02/2003 02:30 am)\n",
       "118029                                    2/12/2003 02:35  (Entered as : Feb.12 200 2:35 a.m)\n",
       "118224                                   12/15/2002 23:00  (Entered as : 12/15/2002 11:00 pm)\n",
       "118244                                    12/11/2002 02:34  (Entered as : 11.12.2002 2.34 am)\n",
       "118293                             12/6/2002 07:04  (Entered as : 12/06/02 7&amp;#65306;04am)\n",
       "118339                                   11/30/2002 13:00  (Entered as : 11/30/2002 1300HOUR)\n",
       "118351                                   11/29/2002 06:15  (Entered as : 11/29/2002 6:15 a.m)\n",
       "118386                                    11/27/2002 04:30  (Entered as : 11/27/2002 4:30 am)\n",
       "118468                                    7/23/2002 20:00  (Entered as : 07/23/2002 08:00 pm)\n",
       "118496                                   11/16/1999 18:40  (Entered as : 11/16/1999 18:40cst)\n",
       "118499                                 8/15/1999 23:00  (Entered as : 08/15/99 around  23.00)\n",
       "118635                                   11/18/2002 16:35  (Entered as : 18/11/2002 16:35P.M)\n",
       "118665                     2/19/2000 23:45  (Entered as : 02/19/00 23:45-50 approximation of)\n",
       "118675                                  8/28/1999 05:31  (Entered as : 08/28/1999 05:31 a.m.)\n",
       "118698                                    12/24/1998 19:00  (Entered as : 12/24/98 1900-1915)\n",
       "118751                                    11/30/1978 08:00  (Entered as : 11/30/1978 8:00 pm)\n",
       "118756                                    7/15/1969 14:00  (Entered as : summer 196 afternoo)\n",
       "118970                                    10/15/1987 21:00  (Entered as : 10/15/1987 9.00 pm)\n",
       "119010                                    10/17/2002 23:01  (Entered as : 17 Oct 02 11:01P.M)\n",
       "119051                                    10/11/2002 20:36  (Entered as : 10-11-2002 8:36 PM)\n",
       "119128                                    10/14/2002 19:30  (Entered as : 10/14/2002 7:30 pm)\n",
       "119150                                   10/13/2002 19:10  (Entered as : 10/13/2002 19:10 pm)\n",
       "119234                                    10/1/2002 05:45  (Entered as : 10/01/2002 05:45PST)\n",
       "119368                                    9/25/2002 03:30  (Entered as : 09/25/2002 03:30 am)\n",
       "119565                                    5/15/2002 00:30  (Entered as : 05/00/2002 12:30 am)\n",
       "119579             12/3/1999 21:00  (Entered as : 2100 hrs,12\\3\\99 unknown, I saw them it wh)\n",
       "119616                                 10/26/1998 18:05  (Entered as : 10/26/98 18:05--18:40)\n",
       "119685                                   01:00  (Entered as : Continious fall '98-sprin 0100)\n",
       "119826                            8/15/1981 23:00  (Entered as : 08/  /81 11:00 pm - 6:00 am)\n",
       "119827                                    10/15/1980 23:00  (Entered as : late 80 late night)\n",
       "119966                                   11/15/2000 20:00  (Entered as : 11/15/2000 8-8:30pm)\n",
       "119990                                  11/27/1998 20:15  (Entered as : 11-27-98 20:15-22:00)\n",
       "120008                                11/2/1996 02:00  (Entered as : Nov.2, 1996 2 or 3 a.m.)\n",
       "120192                                   3/19/1997 20:45  (Entered as : march 19.1997 8:45pm)\n",
       "120561                                    7/15/1994 14:00  (Entered as : Jul-aug 94 14:00-15)\n",
       "120711                                    7/21/2002 09:04  (Entered as : 07/21/2002 9:04 p.m)\n",
       "120932                                    10/20/1998 11:30  (Entered as : 10 /20/98 11:30 am)\n",
       "121085                                    6/13/2002 22:30  (Entered as : 06/13/2002 2230 Hrs)\n",
       "121133                                    5/19/2001 00:01  (Entered as : 05/19/2001 12:00 am)\n",
       "121320                                    5/26/2002 21:00  (Entered as : 05/26/2002 21:00 GM)\n",
       "121745                                    4/13/2002 21:55  (Entered as : 04.13.2002 21:55 pm)\n",
       "121932                                    5/15/2001 23:15  (Entered as : 05/15/2001 23:15 PM)\n",
       "122087                                    2/22/2002 15:25  (Entered as : 22 02 2002 15:25ish)\n",
       "122434                                    9/22/2001 09:15  (Entered as : 09/22/2001 09:15 pm)\n",
       "122886    9/15/1999 23:45  (Entered as : Sometime in the last  yea Just before or after midn)\n",
       "122940                                5/15/1989 01:00  (Entered as : ??/??/88-90 24:00-02:00)\n",
       "122954                          8/15/1982 22:00  (Entered as : &lt;8/15/82&gt; &lt;2200.&gt;)\n",
       "122963                             6/15/1978 00:30  (Entered as : summer 1978 after mindight)\n",
       "123048                                    11/28/2001 03:41  (Entered as : 11/28/2001 3:41 AM)\n",
       "123062                                    11/26/2001 01:00  (Entered as : 11/26/2001 1:00 am)\n",
       "123113                                    10/20/2001 13:00  (Entered as : 10/20/2001 01:00pm)\n",
       "123153                                    5/28/1910 21:00  (Entered as : 05/28/1910 don't kn)\n",
       "123160                                    11/18/2001 08:45  (Entered as : 11/18/2001 8:45 pm)\n",
       "123184                            11/17/2001 12:29:14 PM 01:27  (Entered as : 17.11.01 01:27)\n",
       "123245                              11/6/2001 10:58:20 AM 21:15  (Entered as : 11/6/01 21:15)\n",
       "123247                             11/5/2001 10:58:20 AM 22:30  (Entered as : 11/05/01 22:30)\n",
       "123248                           11/5/2001 10:58:20 AM 22:15  (Entered as : 11/05/2001 22:15)\n",
       "123260                           11/3/2001 10:58:20 AM 22:00  (Entered as : 11/03/2001 22:00)\n",
       "123261                            11/3/2001 10:58:20 AM 01:30  (Entered as : 11/03/01 1:30am)\n",
       "123268                             11/2/2001 10:58:20 AM 22:44  (Entered as : 11/02/01 22:44)\n",
       "123269                             11/2/2001 10:58:20 AM 22:30  (Entered as : 11/02/01 22:30)\n",
       "123278                       10/31/2001 10:58:20 AM 22:10  (Entered as : 10/31/2001 10:10 pm)\n",
       "123279                            10/31/2001 10:58:20 AM 20:00  (Entered as : 10/31/01 20:00)\n",
       "123280                                   10/31/2001 22:00  (Entered as : 31/10/2001 9 to11pm)\n",
       "123295                                   10/29/2001 10:45  (Entered as : 29/10/2001 10.45.am)\n",
       "123296                          10/28/2001 10:07:31 AM 00:30  (Entered as : 10/28/01 12:30am)\n",
       "123297                               10/28/2001 9:40:26 AM 21:00  (Entered as : 10-28-01 9pm)\n",
       "123360                           10/16/2001 11:15:22 AM 20:30  (Entered as : 10-16-01 8;30PM)\n",
       "123396                                    10/12/2001 05:30  (Entered as : 10/12/2001 5:30 am)\n",
       "123429                             8/24/2001 10:58:20 AM 22:00  (Entered as : 08/24/01 22:00)\n",
       "123435                              7/26/2001 10:58:20 AM 00:00  (Entered as : 07/26/01 12AM)\n",
       "123436                               7/18/2001 7:18:01 AM 20:00  (Entered as : 7.18.01 20.00)\n",
       "123437                               7/17/2001 5:07:01 PM 20:40  (Entered as : 17.7.01 20.40)\n",
       "123438                               7/16/2001 7:16:01 AM 23:03  (Entered as : 7.16.01 23.03)\n",
       "123439                               7/15/2001 7:15:01 AM 23:00  (Entered as : 7.15.01 23.00)\n",
       "123450                             12/6/2000 10:58:20 AM 20:00  (Entered as : 12/06/00 20:00)\n",
       "123454                             7/15/2000 10:58:20 AM 17:15  (Entered as : 07/00/00 17:15)\n",
       "123468                                    10/10/1999 20:35  (Entered as : 10-10-2001 8:35 pm)\n",
       "123476                        3/30/1998 23:00  (Entered as : March or April '98 before noon?)\n",
       "123478                              6/11/1997 2:44:58 PM 21:20  (Entered as : 06/11/97 21:20)\n",
       "123485                              10/3/1995 9:49:29 AM 20:20  (Entered as : 10/03/95 20:20)\n",
       "123486                               8/25/1995 2:13:23 PM 01:00  (Entered as : 8/??/95 01:00)\n",
       "123501                            11/7/1989 10:09:08 AM 19:30  (Entered as : 11-7-1989 19:30)\n",
       "123503                               6/15/1989 3:49:15 PM 20:00  (Entered as : 1989 around 8)\n",
       "123509                          10/15/1984 10:58:20 AM 22:30  (Entered as : 10/15/84 10:30pm)\n",
       "123510                               8/15/1984 01:00  (Entered as : 1984/1985 after midnight)\n",
       "123538                             7/15/1960 10:58:20 AM 21:00  (Entered as : 1958/1962 2100)\n",
       "123591                                    9/29/2001 10:30  (Entered as : 09-29-2001 10:30 am)\n",
       "123632                               9/19/2001 3:20:05 PM 11:00  (Entered as : 09/19/01 1100)\n",
       "123795                             8/30/2001 10:28:24 PM 15:00  (Entered as : 08/30/01 15:00)\n",
       "123796                                    8/30/2001 23:54  (Entered as : 08.30 2001 23.54UTL)\n",
       "123856                                    8/25/2001 11:30  (Entered as : 08-25-2001 1130Hrs.)\n",
       "123934                                    6/24/2001 13:30  (Entered as : 06/24/2001 10.30GMT)\n",
       "123948                              3/15/2001 3:03:01 PM 03:30  (Entered as : 15.03.01 03:30)\n",
       "124000                                  1/1/1997 9:07:41 AM 07:00  (Entered as : 6:30 - 7:30)\n",
       "124019                                  11/25/1993 15:00  (Entered as : 11/25/93 aprox.15:00)\n",
       "124074                              9/15/1964 9:57:47 AM 20:00  (Entered as : 1960's evening)\n",
       "124192                                    3/12/1997 20:09  (Entered as : 03/12/1997 20:09:00)\n",
       "124366                                    7/25/2001 19:20  (Entered as : 07/25/2001 19.20 pm)\n",
       "124368                                    7/24/2001 23:30  (Entered as : 25/07/2001 11:30 PM)\n",
       "124436                                    7/20/2001 02:00  (Entered as : 20ish/07/0 2:00 ish)\n",
       "124639                                    6/25/2001 21:00  (Entered as : 06/24/2001 9:00 pm`)\n",
       "124643                                    6/25/2001 19:30  (Entered as : 06/25/2001 07:30 pm)\n",
       "124724                                    6/13/2001 23:00  (Entered as : 06/13/2001 11:00 pm)\n",
       "124948                                   5/11/2001 05:00  (Entered as : 05-11-01-&gt; 5:00am)\n",
       "125112                                    8/15/2000 22:30  (Entered as : 08/??/2000 22-23:00)\n",
       "125254                              11/14/1997 18:35  (Entered as : 11/14/97 18:35-19:10 cst)\n",
       "125290                                  9/8/1996 00:00  (Entered as : 9/8/96 24:00pst-3hours)\n",
       "125369                                    12/9/1990 01:15  (Entered as : 12/09/1990 1:15 a.m)\n",
       "125411                                    8/11/1981 18:49  (Entered as : 08/11/1981 18:49 PM)\n",
       "125438                              6/15/1976 21:30  (Entered as : twice, and the triangle f)\n",
       "125456                                   10/6/1973 09:00  (Entered as : 10/06/73 9:00 PM (?))\n",
       "125487                                   6/10/1966 21:30  (Entered as : June 8, 1966 9:30 pm)\n",
       "125494                                    4/15/1965 12:00  (Entered as : 04/15/1965 12:00 no)\n",
       "125526                                    4/27/2001 23:00  (Entered as : 04/27/2001 11:00 pm)\n",
       "125666                                    3/30/2001 01:12  (Entered as : 03/30/2001 01:12 am)\n",
       "125827                                    3/27/2001 21:15  (Entered as : 03/27/2001 09:15 pm)\n",
       "125850                                    3/23/2001 02:15  (Entered as : 23 march01 02:15:am)\n",
       "125860                                    3/21/2001 22:30  (Entered as : 21 march01 22:30pst)\n",
       "125947                                    1/22/2000 11:30  (Entered as : jan,200011 11;30 am)\n",
       "126033                                    3/10/2001 19:00  (Entered as : 03/10/2001 07:00 pm)\n",
       "126086                                    12/24/1999 11:00  (Entered as : 12/24/1999 11:00AM)\n",
       "126173                                   12/15/1993 02:00  (Entered as : Winter '93 2:00 am?)\n",
       "126248                                    7/8/1999 10:25  (Entered as : July 8, 1999 10:25am)\n",
       "126273                                    10/15/1983 19:00  (Entered as : 17 years a 7:00 pm)\n",
       "126291                                    2/15/2001 20:05  (Entered as : 02/15/2001 20:05 pm)\n",
       "126310                                 2/12/2001 02:30  (Entered as : 02/12/2001 2:30A&gt;M.)\n",
       "126620                                    12/26/2000 18:00  (Entered as : 12/26/2000 18:00 +)\n",
       "126621                                   12/25/2000 20:30  (Entered as : 12/25/00 /&lt;20:30)\n",
       "126882                                   8/15/1960 15:00  (Entered as : 8/1960 15:00&lt;&gt;)\n",
       "126904                                    12/31/2000 20:30  (Entered as : 12/31/2000 8:30 PM)\n",
       "126932                                    12/24/2000 20:00  (Entered as : 12/24/2000 8:00 pm)\n",
       "126953                                    12/17/2000 20:45  (Entered as : 12-17-2000 8:45 PM)\n",
       "126985                                    6/15/1991 03:00  (Entered as : 1991 OR92 2,3,4,AM?)\n",
       "127046                                    12/5/2000 15:27  (Entered as : 12-05-2000 15:27:30)\n",
       "127193                                   11/28/2000 02:14  (Entered as : 11/28/2000 02:14 AM)\n",
       "127253                                    11/18/2000 22:15  (Entered as : 11-18-00. 22:15hrs)\n",
       "127326                                    11/3/2000 19:40  (Entered as : 11/03/2000 7:40 p.m)\n",
       "127327                                    11/3/2000 19:40  (Entered as : 11/03/2000 7:40 p.m)\n",
       "127329                                    11/3/2000 15:40  (Entered as : 11-03-2000 3:40pm/c)\n",
       "127350                                    10/31/2000 19:00  (Entered as : 10/31/2000 7:00 pm)\n",
       "127404                                   10/24/2000 22:30  (Entered as : 10/24/2000 10.30-11)\n",
       "127433                                   10/20/2000 23:30  (Entered as : oct20-2000 11;30 pm)\n",
       "127452                                    10/18/2000 06:02  (Entered as : 10/18/2000 6:02 AM)\n",
       "127481                                    10/13/2000 19:30  (Entered as : 10-13-2000 7:30 pm)\n",
       "127485                                    10/13/2000 19:00  (Entered as : 10-13-2000 19:00pm)\n",
       "127492                                    10/12/2000 20:08  (Entered as : 10/12/2000 20:08pm)\n",
       "127511                                    10/9/2000 09:00  (Entered as : 10-09-2000 9.00-915)\n",
       "127513                                    10/8/2000 22:30  (Entered as : 10/08/2000 10:30 pm)\n",
       "127536                                    10/6/2000 10:50  (Entered as : 10/06/2000 1050 hrs)\n",
       "127709                                    7/24/2000 22:26  (Entered as : 07/24/2000 22:26:53)\n",
       "127775                                  12/16/1999 22:00  (Entered as : 12/16/99 22:00-14:00)\n",
       "127778                                  11/30/1999 06:30  (Entered as : Nov 30, 1999 6:30 am)\n",
       "127788                         11/16/1999 19:05  (Entered as : Nov 16/99 7:05pm Ontario time)\n",
       "127789                                 11/16/1999 19:05  (Entered as : 11/16/99 19:05 e.s.t.)\n",
       "127790                                    11/16/1999 18:09  (Entered as : 11/16/99 18:09 EST)\n",
       "127801                                  9/26/1999 20:00  (Entered as : Sept.26/99 20:00 Hrs.)\n",
       "127807                                  9/14/1999 06:30  (Entered as : Sept 14,1999 6:30 PST)\n",
       "127818                                 8/22/1999 20:30  (Entered as : 08/22/99 8:30-8:33pm m)\n",
       "127864                                  2/23/1999 01:15  (Entered as : 02/23/99 1:15 PM. EST)\n",
       "127874                                    11/17/1998 21:30  (Entered as : Nov,17,98 21:30 pm)\n",
       "127898                        8/12/1998 22:24  (Entered as : first time on august 12,1 10h24)\n",
       "127910                             6/21/1998 22:30  (Entered as : June 21, 1998 22:30 approx)\n",
       "128005                                 6/11/1995 23:20  (Entered as : 06/11/95 23:20 approx.)\n",
       "128046                                    7/18/1988 01:00  (Entered as : July 18, 1988 01:00)\n",
       "128153                                    8/2/1860 23:00  (Entered as : 08/02/1860 23:00 EST)\n",
       "128290                                    8/31/2000 21:15  (Entered as : 08/31/2000 21:15-25)\n",
       "128358                                    7/21/2000 18:15  (Entered as : 07/21/2000 18:15EST)\n",
       "128392                                    3/10/1989 22:30  (Entered as : 03-10-1989 22:30 p.)\n",
       "128547                                    7/29/2000 23:00  (Entered as : 07/29/2000 appr2300)\n",
       "129107                                    8/21/1988 20:00  (Entered as : 08  -21-88 8 ;00p.m)\n",
       "129183                  5/15/2000 19:30  (Entered as : may,15,2000 seven thirty in the evein)\n",
       "129242                                  8/20/1995 11:30  (Entered as : aug/20/95 11:30-12:15)\n",
       "129308                                 4/17/2000 02:00  (Entered as : APRIL  17 2000 2:00 AM)\n",
       "129438                                   4/22/1998 21:30  (Entered as : Apr 22, 1998 2130hrs)\n",
       "129444                               3/13/1997 21:00  (Entered as : march 13,1997 about 9:00)\n",
       "129474                                    4/8/2000 18:35  (Entered as : 04/08/00 18:35-18:40)\n",
       "129475                             4/8/2000 01:30  (Entered as : 04/08/00 1:30am-2:40am(b/t))\n",
       "129530                                    4/15/1999 02:30  (Entered as : 04/15/1999 2:30a.m.)\n",
       "129538                                   6/23/1995 03:00  (Entered as : 06-23-95 03:00 04:00)\n",
       "129588                                    3/21/2000 22:05  (Entered as : 03/21/2000 22:05 pm)\n",
       "129656                         4/15/1984 15:00  (Entered as : 04/15/84 between 1500 and 1700)\n",
       "129695                                 3/9/2000 22:00  (Entered as : March 9,2000 0400-23:00)\n",
       "129762                                  22:34  (Entered as : hudson river = town of wa 22:34)\n",
       "129807                                    1/13/2000 22:30  (Entered as : Jan. 13, 2000 22:30)\n",
       "129816                                    11/1/1997 22:00  (Entered as : 11\\01\\1997 10:00 PM)\n",
       "129825                                   12/1/1984 18:00  (Entered as : Dec 1984 about 18:00)\n",
       "129871                                   2/19/2000 23:00  (Entered as : 02/19/00 23:00-23:05)\n",
       "129873                                 2/19/2000 21:15  (Entered as : 2/19/2000 9:15to9:45pm)\n",
       "129885                                  2/16/2000 22:00  (Entered as : 2/16/2000 10:00pm EST)\n",
       "129897                                   2/16/2000 12:30  (Entered as : 2/16/2000 12:30 p.m.)\n",
       "129930                                  5/12/1982 21:50  (Entered as : may 12  8221:50 21:50)\n",
       "129953                                  2/8/2000 19:30  (Entered as : 02/08/00 19:30 Central)\n",
       "129982                                    2/2/2000 19:49  (Entered as : 02/02/2000 19:49 hrs)\n",
       "129983                      2/2/2000 19:33  (Entered as : 2/2/2000 19:33, 19:37, 19:39, 20:1)\n",
       "129992                      1/28/2000 20:58  (Entered as : 1/28/00 8:58 pm pacfiic time (abo)\n",
       "130016                                    1/21/2000 00:12  (Entered as : 01/21/2000 00:12'am)\n",
       "130042                                  10/15/1999 03:00  (Entered as : oct 11-18 1999 0:300)\n",
       "130061                                   11/9/1998 20:00  (Entered as : mm11/dd9/yy'98 20:00)\n",
       "130172                                  1/10/2000 20:30  (Entered as : 01/10/00 20:30hrs est)\n",
       "130176                                  1/9/2000 19:07  (Entered as : 09/01/00 19:07 - 19:08)\n",
       "130185                                    1/7/2000 21:35  (Entered as : 01/07/00 09:35PM EST)\n",
       "130197                    12/31/1999 23:55  (Entered as : 12/31/99 just before midnight in R)\n",
       "130212                                11/16/1999 19:04  (Entered as : 11/16/99 Evening/Night)\n",
       "130242                             11/22/1992   (Entered as : nov 22 1992 1/2 HR BEFORE DARK)\n",
       "130280                                    1/2/2000 21:30  (Entered as : 01/02/2000 21:30 PST)\n",
       "130299                                 12/29/1999 17:50  (Entered as : 12-29-99 5:50-6:10 pm)\n",
       "130316                                    12/26/1999 06:45  (Entered as : 12-26-99 ~6:45a.m.)\n",
       "130354                                   12/17/1999 05:45  (Entered as : 12-17-99 05:45 A.M.)\n",
       "130385                                    7/15/1999 23:30  (Entered as : mid July, 1999 2330)\n",
       "130452                                  12/5/1999 17:50  (Entered as : 120599 17:50 or 18:00)\n",
       "130459                                  12/5/1999 04:00  (Entered as : 12/05/99 04:00 c.s.t.)\n",
       "130468                                  12/2/1999 21:00  (Entered as : 12/2/99 21:00 - 22:00)\n",
       "130494                                   11/21/1999 18:10  (Entered as : 11/21/1999 18:10PST)\n",
       "130495                                    11/20/1999 23:30  (Entered as : 11/20/1999 23:30pm)\n",
       "130618                                    11/20/1999 22:22  (Entered as : 11/20/99 10:22P.M.)\n",
       "130650                    11/16/1999 20:00  (Entered as : November 16, 1999 8:00 P.M. C.S.T.)\n",
       "130666                                    11/16/1999 19:00  (Entered as : 11/16/99 7:00-7:30)\n",
       "130668                                  11/16/1999 18:55  (Entered as : 11/17/99 18:55-19:15)\n",
       "130677                                   11/16/1999 18:00  (Entered as : 11/16/99 approx.6pm)\n",
       "130684                                   11/14/1999 00:45  (Entered as : 11/14/99 00:45 appr)\n",
       "130695                               10/26/1999 12:00  (Entered as : October 26, 1999 midday)\n",
       "130716                             11/16/1999 23:03  (Entered as : 11/17/99 23:03 &amp; 0:34)\n",
       "130728                                  11/16/1999 19:10  (Entered as : 11/16/99 19:10-19:15)\n",
       "130739                                  11/16/1999 19:06  (Entered as : nov.16,1999 7;06p.m.)\n",
       "130747                                  11/16/1999 19:05  (Entered as : 11/16/99 19:05:00 pm)\n",
       "130760                           11/16/1999 19:00  (Entered as : 11/16/99 19:00-19:05 5 sec.)\n",
       "130778                                    11/16/1999 18:20  (Entered as : 11/16/99 18:20 p.m)\n",
       "130783                     11/16/1999 18:10  (Entered as : 11/16/99 arou nd 18:10 pm central)\n",
       "130792                             11/16/1999 18:05  (Entered as : 11/16/99 18:05 pm central)\n",
       "130796                                  11/16/1999 18:05  (Entered as : 11/16/99 6:05 pm cst)\n",
       "130807                                    11/16/1999 18:00  (Entered as : 11-16-99 6:00 p.m.)\n",
       "130834                                    11/12/1999 01:03  (Entered as : 11/12/1999 1:03 AM)\n",
       "130838                                   11/10/1999 23:00  (Entered as : 11- 10-99 HH:MM23OO)\n",
       "130877                                    10/16/1999 22:00  (Entered as : 10/16/99 10:00P.M.)\n",
       "130878                                10/16/1999 22:00  (Entered as : 10/16/99 22:00 approx.)\n",
       "130891                    12/22/1998 12:00  (Entered as : 12/22/98 afternoon, around 12 or 1)\n",
       "130933                                    11/3/1999 17:30  (Entered as : 11/03/1999. 17:30pm)\n",
       "130941                                    11/1/1999 18:30  (Entered as : 11/01/99 18:30 p.m.)\n",
       "130944                                    10/31/1999 00:30  (Entered as : 10/31/99 00.30 hrs)\n",
       "130949                                   10/21/1999 11:55  (Entered as : Oct. 21, 1999 11:55)\n",
       "130997                         10/26/1999 19:10  (Entered as : 10/25/99 &amp; 10/26/99 19:10)\n",
       "131050                                  10/19/1999 05:45  (Entered as : 10/19/99 5:45-6:00am)\n",
       "131074                               2/25/1999 17:41  (Entered as : 02/25/99 17:41 and 17:52)\n",
       "132281                                  8/17/1969 02:30  (Entered as : 08/17/69 02:30 AM PDT)\n",
       "132306                                   10/13/1999 22:00  (Entered as : 10/13/99 22:00 p.m.)\n",
       "132310                               10/12/1999 20:00  (Entered as : 10-12-99 20:00 mountain)\n",
       "132317                                    10/11/1999 20:35  (Entered as : 10/11/99 2035-2205)\n",
       "132331                                  10/10/1999 00:01  (Entered as : 10/10/99 24:00-01:00)\n",
       "132393                                9/19/1999 17:00  (Entered as : 09/19/99 18:00 for 5:00)\n",
       "132407                      4/29/1996 21:30  (Entered as : 4-29-96 between 9:30 and 10:00 PM)\n",
       "132417                                   6/1/1988 19:00  (Entered as : 1988 19:00  (approx.))\n",
       "132437                                   9/29/1999 18:45  (Entered as : 09/29/99 18:45-18:50)\n",
       "132470                     9/20/1999 19:00  (Entered as : 09/20/99 about  19:00pm Mountain T)\n",
       "132496                                    9/17/1999 20:11  (Entered as : 9/17/99 about 20:11)\n",
       "132510                                  9/14/1999 22:00  (Entered as : 09/14/99 approx.22:00)\n",
       "132528                                   9/12/1999 18:30  (Entered as : 09/12/99 1830 approx)\n",
       "132585                      9/3/1999 12:38  (Entered as : 2 days after the Eugene   12:38 AM)\n",
       "132620                        8/15/1999 13:00  (Entered as : end of August or beginnin 13:00)\n",
       "132621                                  8/13/1999 21:50  (Entered as : 8/13/99 9:50/10:05/pm)\n",
       "132624                        8/10/1999 22:30  (Entered as : 8/10-11/99 22:30 PM and 5:45 AM)\n",
       "132649                                   9/18/1997 04:15  (Entered as : 09/18/97 4:15 E.S.T.)\n",
       "132752                                    9/1/1999 23:30  (Entered as : 9/1/99 23:30 approx.)\n",
       "132783                                    8/31/1999 21:10  (Entered as : 08/31/1999 21:10 pm)\n",
       "132784                                 8/31/1999 20:30  (Entered as : Augast 31, 1999 8:30pm)\n",
       "132785                                 8/31/1999 20:30  (Entered as : Augast 31, 1999 8:30pm)\n",
       "132814                        7/1/1999 21:20  (Entered as : 07/01/99 between 21:20 and 21:30)\n",
       "132815         6/1/1999 15:30  (Entered as : around the first of summe between 2:30 and 5:30)\n",
       "132825                              10/20/1998 11:52  (Entered as : october 20,1998 11:52 pm)\n",
       "132850                                  8/28/1999 18:00  (Entered as : 8-28-99 18:00 approx.)\n",
       "132891                                 8/16/1999 08:30  (Entered as : August 16 1999 8:30 PM)\n",
       "132955                                    6/24/1999 00:00  (Entered as : 06/24/99 o:oo-03:oo)\n",
       "132959                                    6/19/1999 22:00  (Entered as : June 19, 1999 10 PM)\n",
       "132963                                    5/18/1999 14:00  (Entered as : May 18th 1999 14:00)\n",
       "132964                                    5/18/1999 14:00  (Entered as : May 18th 1999 14:00)\n",
       "132976                                    10/9/1998 16:00  (Entered as : 10/09/1998 16:00 pm)\n",
       "133010                                    4/17/1987 12:00  (Entered as : 4/17/87 12:00 about)\n",
       "133048                        8/4/1999 21:00  (Entered as : 8/4/99 and 8/5/99 21:00 to 23:30)\n",
       "133054                                   8/2/1999 18:00  (Entered as : 08/02/99 1800 or 1900)\n",
       "133145                                 7/11/1999 17:30  (Entered as : July 11, 1999 1730 hrs)\n",
       "133157                                   7/4/1999 21:00  (Entered as : 07/04/99041999 9:00pm)\n",
       "133195                                    5/5/1996 20:00  (Entered as : 05/05/96 2000 approx)\n",
       "133207                                   6/15/1993 00:00  (Entered as : 06/?/93 apx. 24:00pm)\n",
       "133219                                    9/15/1984 23:00  (Entered as : 09/?/84 about 23:00)\n",
       "133258                        7/10/1999 22:00  (Entered as : 07-10-99 22:00 or 22:30 approx.)\n",
       "133260                                 7/10/1999 15:00  (Entered as : 07/10/99 15:00 approx.)\n",
       "133295                                 6/24/1999 21:50  (Entered as : 6/24/99 21:50 to 22:00)\n",
       "133343                                    6/25/1999 22:23  (Entered as : 06/25/1999 10:23 pm)\n",
       "133347                                    6/24/1999 16:00  (Entered as : 6.24.99 4-6:15 p.m.)\n",
       "133353                                   6/20/1999 23:00  (Entered as : 06/20/99 23:00-24:00)\n",
       "133357                                   6/20/1999 04:30  (Entered as : 06/20/99 Approx 0430)\n",
       "133572                                    3/17/1988 20:00  (Entered as : March 17 ,1988 8:pm)\n",
       "133574                                   4/21/1987 22:30  (Entered as : april 21 87 10:30 pm)\n",
       "133595                                 5/17/1999 20:10  (Entered as : May 17,1999 8:10pm EDT)\n",
       "133597                                    5/16/1999 20:30  (Entered as : 05/16/1999 20:30:00)\n",
       "133676                                    4/10/1999 19:30  (Entered as : April 10, 1999 1930)\n",
       "133683                                    3/19/1999 23:30  (Entered as : March 19,1999 23:30)\n",
       "133736                                   5/31/1998 10:30  (Entered as : may 31, 1998 10:30am)\n",
       "133742                  12/5/1997 22:00  (Entered as : when the eight planets li 22:00-23:00)\n",
       "133780                                    9/1/1990 06:30  (Entered as : SEP-1990 06:30  E.T.)\n",
       "133785                                  10/17/1986 18:00  (Entered as : 10/17/86 18:00 hours)\n",
       "133795                                   3/11/1979 16:00  (Entered as : 3  11   79 16: 00 PM)\n",
       "133816                                15:00  (Entered as : Summer 1965 or 1966 15:00 hrs +/-)\n",
       "133841                                 4/14/1999 00:10  (Entered as : 4/14/1999 0:10-12:10am)\n",
       "133861                       4/7/1999 08:40  (Entered as : 04/07ends and we wer /99 8:40 p.m)\n",
       "133862                               4/7/1999 08:37  (Entered as : 04/07/99 08:37 pmIt was b)\n",
       "133884                                    4/1/1999 00:00  (Entered as : april 1999 0001-0230)\n",
       "133922                             10/25/1998 7:07:36 PM 16:20  (Entered as : 04/06/98 16:20)\n",
       "133936    5/1/1997 2:00:00 AM 14:00  (Entered as : 5-97            02:00 02:00      02:00 PM)\n",
       "133951                                 6/30/1985 23:30  (Entered as : 1982 -1987 11:00-24:00)\n",
       "134081                                  2/23/1999 02:30  (Entered as : 02/23/99 2:30-35 A.M.)\n",
       "134154                               12/23/1998 22:35  (Entered as : December 23, 1998 22:35)\n",
       "134180                                   8/1/1998   (Entered as : August 98 evening twilight)\n",
       "134209                                  3/13/1997 20:00  (Entered as : 03/13/97 20:00approx.)\n",
       "134213                        7/1/1996 00:00  (Entered as : 7/1996 after 24:00, between 24:0)\n",
       "134223                                 11/23/1994 03:00  (Entered as : 11/23/94 3:00 to 4:30)\n",
       "134226                       10/2/1994   (Entered as : Oct. 2, 1994 between midnight and 5am)\n",
       "134297                                    5/15/1967 19:30  (Entered as : 05/??/67 7:30pmest.)\n",
       "134301                    3/15/1962 12:00  (Entered as : Spr. 1962My father was an @12:00 PM)\n",
       "134312                                   21:00  (Entered as : 1966/1967 november 21:00 21:00)\n",
       "134342                                    1/20/1999 20:30  (Entered as : 1/20/99 2030 hr CST)\n",
       "134347                                  1/18/1999 02:00  (Entered as : 01/18/1999 02:00 a.m.)\n",
       "134370                                   1/10/1999 19:00  (Entered as : 01/10/99 19:00-19:30)\n",
       "134379                              1/8/1999 19:30  (Entered as : tonight 1-8-99 19:30 or so)\n",
       "134398                                    12/27/1998 01:00  (Entered as : 12/27/98 01:00:00a)\n",
       "134404                               12/22/1998 21:00  (Entered as : 12/22/98 9:00pm-11:30pm)\n",
       "134406                                    12/22/1998 07:25  (Entered as : 12/22/98 7:25 a.m.)\n",
       "134407                                   12/21/1998 02:10  (Entered as : 12/21/98 02:10 A.M.)\n",
       "134413                                   12/18/1998 22:00  (Entered as : 12/18/1998 22-24:00)\n",
       "134483                                    8/28/1997 20:00  (Entered as : 08/28/97 8PM APPROX)\n",
       "134489                                    3/15/1997 19:00  (Entered as : 03/??/97 7PM APPROX)\n",
       "134498                                    4/19/1995 23:00  (Entered as : 04/19/95 23:00-4:00)\n",
       "134519                                   5/24/1978 01:30  (Entered as : 05/24/78 01:30-02:00)\n",
       "134548                                   12/17/1998 07:10  (Entered as : 12/17/98 7:10 -7:20)\n",
       "134586                                    12/10/1998 01:00  (Entered as : 12-10-98 1:00 a.m.)\n",
       "134592                                   12/9/1998 00:00  (Entered as : 12/09/98 12 midnight)\n",
       "134606                                    12/6/1998 07:30  (Entered as : 12/06/98 07:30-8:00)\n",
       "134616                                   12/3/1998 23:30  (Entered as : 11/03/98 (sic) 23:30)\n",
       "134653                                    11/22/1998 18:30  (Entered as : 11/22/1998 18:30pm)\n",
       "134654                                  11/21/1998 15:00  (Entered as : 11/21/98 15:00-15:30)\n",
       "134671                                  11/17/1998 04:00  (Entered as : 11/17/98 appr. 04:00)\n",
       "134685                           10/17/1998 16:00  (Entered as : Oct. 17, 1998 16:00 approx.)\n",
       "134698                                    6/1/1998 00:06  (Entered as : june 1998 12:06 a.m.)\n",
       "134711                        5/16/1998 21:45  (Entered as : 5/16/98 between 21:45 and 21:55)\n",
       "134739                 4/24/1998 00:25  (Entered as : 4/24&amp;25/98 00:25on24th/21:30on25th)\n",
       "134778                                   4/3/1998 22:20  (Entered as : 04/03/98 approx 22:20)\n",
       "134779                                   4/3/1998 21:30  (Entered as : 4-3-98 21:00-22:00 pm)\n",
       "134785                                    4/2/1998 14:10  (Entered as : 04/2/98 14:10/2:10pm)\n",
       "134786                                  4/1/1998 20:00  (Entered as : April   98 8 to9:00 pm)\n",
       "134823                                  3/13/1998 21:00  (Entered as : 13/03/'98 21:00/22:00)\n",
       "134839                         3/7/1998 19:00  (Entered as : same lights to the police 19:00)\n",
       "134919                                  12/15/1997 22:30  (Entered as : 12/xx/97 22:30-23:00)\n",
       "134924                                    11/27/1997 19:30  (Entered as : 11/27/97 19:30 est)\n",
       "134933                               11/22/1997 06:00  (Entered as : 11/22/97 06:00 to 06:30)\n",
       "134958                                    11/14/1997 21:00  (Entered as : 11/14/97 2100 aprx)\n",
       "134974                                  10/31/1997 00:00  (Entered as : 10/31/97 12 midnight)\n",
       "134996                                    10/12/1997 19:00  (Entered as : 10/12/97 19:00p.m.)\n",
       "135031                     8/15/1997 20:00  (Entered as : Aug\\Sept97 Between 20:00&amp;22:00)\n",
       "135062                                 7/14/1997   (Entered as : 7/14/97to2/98?&gt; all hrs.)\n",
       "135067                                    7/11/1997 23:45  (Entered as : July 11, 1997 23:45)\n",
       "135087                                    6/26/1997 18:23  (Entered as : 06/26/97 18:23 SAST)\n",
       "135129                      5/30/1997 20:00  (Entered as : 5/30/97 I am not sure of the time)\n",
       "135138                             5/24/1997 20:00  (Entered as : May 24, 1997 approx. 20:00)\n",
       "135187                                   3/13/1997 20:30  (Entered as : 03/13/97 20:00-21:00)\n",
       "135203                                 12/28/1996 01:00  (Entered as : 12/28?/96 about 01:00)\n",
       "135209                                  11/17/1996 21:00  (Entered as : 11/17/96 21:00-22:00)\n",
       "135216                        10/13/1996 06:00  (Entered as : OCT.13 &amp; 14 1996 6:00 A.M.)\n",
       "135241                         4/18/1996 8:22:52 AM 17:40  (Entered as : 04/18/96 1740 hours)\n",
       "135248                                    11/27/1995 20:00  (Entered as : 11-27-95 20:00 +/-)\n",
       "135253                                   10/15/1995 01:30  (Entered as : 10/15/95 01:30:00am)\n",
       "135255                                   9/28/1995 21:00  (Entered as : 09/28/95 20:OO-22:00)\n",
       "135268                                    6/15/1995 17:00  (Entered as : ??/??/95 around 5pm)\n",
       "135361                                   11/10/1985 19:00  (Entered as : 11/10/85 1900 hours)\n",
       "135384               10/3/1980 18:00  (Entered as : October 3 or 4, 1980 between 6 and 10 pm)\n",
       "135389                             7/1/1979 00:00  (Entered as : Summer, 1979 (approx) Night)\n",
       "135464                                    6/1/1963 11:00  (Entered as : 1963? 11:00 or 15:00)\n",
       "135488                                 12/31/1061 22:00  (Entered as : Winter of 61-62 22;00)\n",
       "135493                                  18:00  (Entered as : it headed into a cloud wh 18:00)\n",
       "135499                                    8/3/1998 00:00  (Entered as : 8/3/98 1200 Midnight)\n",
       "135518                                    7/25/1998 22:00  (Entered as : 07/25/98 22:00 (pm))\n",
       "135583                                    6/25/1998 22:18  (Entered as : June 25, 1998 22:18)\n",
       "135646                    11/11/1998 15:00  (Entered as : 11/11/98 Between 15:00 and 16:00 C)\n",
       "135650                                    11/10/1998 18:48  (Entered as : 11/10/98 18:48 PST)\n",
       "135659                                    11/7/1998 21:50  (Entered as : 11/7/98 21:50-22:00)\n",
       "135665                                   11/6/1998 07:10  (Entered as : 11/06/98 aprox. 7:10)\n",
       "135692                          10/23/1998 18:04  (Entered as : 10/23/98 18:04 approximately)\n",
       "135693                    10/23/1998 18:00  (Entered as : 10/23/98 18:00to18:15 approximatel)\n",
       "135707                             9/15/1998 21:00  (Entered as : 9-15-98 21:00-21;15 ,22:00)\n",
       "135847                              9/24/1998 22:00  (Entered as : sept.24 1998 10:00 pm pdt)\n",
       "135938                                10/25/1983 02:00  (Entered as : 10/24-25/83 0200-0300?)\n",
       "135945                                    6/15/1973 06:00  (Entered as : 1973-1974 0600-0630)\n",
       "135946                                  10/15/1971 20:30  (Entered as : 10/??/71 aprox 20:30)\n",
       "135951                                    6/15/1966 17:00  (Entered as : 1965-1967 1700-2000)\n",
       "135955                               20:00  (Entered as : Fall 94? between 20:00 &amp; 21:30)\n",
       "135970                                    9/24/1998 22:35  (Entered as : 09/24/98 22:35 AKDT)\n",
       "136069                         7/4/1997 22:00  (Entered as : 7-4-97 10:00 p.m. to 10:02 p.m.)\n",
       "136115                           5/28/1997 21:00  (Entered as : 05/28/97 9:00pm eastern time)\n",
       "136160                                   3/15/1998 13:00  (Entered as : March 15, 1998 13:00)\n",
       "136163                         12/24/1995   (Entered as : 12/24/95 exact time unknown. it wa)\n",
       "136179                        11/29/1997 18:15  (Entered as : 11/29/97  -- 12/1/97 18:15 pst)\n",
       "136181                               11/28/1997 00:45  (Entered as : 11/28/97 00:45 or 00:50)\n",
       "136182                                   11/25/1997 22:21  (Entered as : 11/25/97 22:21 P.M.)\n",
       "136195                            6/15/1996 00:00  (Entered as : summer of 96 24:00am-1:00am)\n",
       "136202                                  9/27/1992 19:00  (Entered as : Sept 27th 1992 7:00pm)\n",
       "136374                               1/14/1997 16:00  (Entered as : APROX. BETWEEN 16:00 AND)\n",
       "136403                                 10/3/1996 21:00  (Entered as : approx. 21:00 or 21:30)\n",
       "136427                                 1/15/1996 18:00  (Entered as : 01/??/96 17:30 - 18:30)\n",
       "136436                                  7/15/1995 01:30  (Entered as : 07/??/95 1:00-2:00 am)\n",
       "136439                   6/1/1995 21:00  (Entered as : sometime in the summer I  around 9:00)\n",
       "136492                                  1/1/1962 08:00  (Entered as : 00/00/62 early morning)\n",
       "Name: occurred, dtype: object"
      ]
     },
     "execution_count": 425,
     "metadata": {},
     "output_type": "execute_result"
    }
   ],
   "source": [
    "cleaned['occurred'][cleaned.occurred.apply(lambda x: len(x) > 50)]"
   ]
  },
  {
   "cell_type": "code",
   "execution_count": 436,
   "metadata": {},
   "outputs": [],
   "source": [
    "cleaned['reported'] = cleaned['reported'].apply(removal, name='Reported')"
   ]
  },
  {
   "cell_type": "code",
   "execution_count": 450,
   "metadata": {},
   "outputs": [],
   "source": [
    "cleaned['posted'] = cleaned['posted'].apply(removal, name='Posted')"
   ]
  },
  {
   "cell_type": "code",
   "execution_count": 458,
   "metadata": {},
   "outputs": [],
   "source": [
    "cleaned['location'] = cleaned['location'].apply(removal, name='Location')"
   ]
  },
  {
   "cell_type": "code",
   "execution_count": 462,
   "metadata": {},
   "outputs": [],
   "source": [
    "cleaned['duration'] = cleaned['duration'].apply(removal, name='Duration')"
   ]
  },
  {
   "cell_type": "code",
   "execution_count": 465,
   "metadata": {},
   "outputs": [],
   "source": [
    "cleaned['shape'] = cleaned['shape'].apply(removal, name='Shape')"
   ]
  },
  {
   "cell_type": "code",
   "execution_count": 485,
   "metadata": {},
   "outputs": [],
   "source": [
    "def ufunc(row):\n",
    "    if len(row) == 0:\n",
    "        return 'Unknown'\n",
    "    elif row == 'TRIANGULAR':\n",
    "        return 'Triangle'\n",
    "    else: \n",
    "        return row"
   ]
  },
  {
   "cell_type": "code",
   "execution_count": 486,
   "metadata": {},
   "outputs": [],
   "source": [
    "cleaned['shape'] = cleaned['shape'].apply(ufunc)"
   ]
  },
  {
   "cell_type": "code",
   "execution_count": 483,
   "metadata": {},
   "outputs": [],
   "source": [
    "cleaned['shape'] = cleaned['shape'].apply(lambda x: x[0].upper() + x[1:])"
   ]
  },
  {
   "cell_type": "code",
   "execution_count": 487,
   "metadata": {},
   "outputs": [
    {
     "data": {
      "text/plain": [
       "Light        27898\n",
       "Circle       14613\n",
       "Unknown      13519\n",
       "Triangle     12662\n",
       "Fireball     10972\n",
       "Other         9219\n",
       "Sphere        9075\n",
       "Disk          7982\n",
       "Oval          5929\n",
       "Formation     4341\n",
       "Changing      3266\n",
       "Cigar         3115\n",
       "Flash         2442\n",
       "Rectangle     2278\n",
       "Cylinder      2059\n",
       "Diamond       1986\n",
       "Chevron       1584\n",
       "Teardrop      1208\n",
       "Egg           1168\n",
       "Cone           568\n",
       "Cross          431\n",
       "Delta            8\n",
       "Round            2\n",
       "Crescent         2\n",
       "Flare            1\n",
       "Changed          1\n",
       "Dome             1\n",
       "Hexagon          1\n",
       "Pyramid          1\n",
       "Name: shape, dtype: int64"
      ]
     },
     "execution_count": 487,
     "metadata": {},
     "output_type": "execute_result"
    }
   ],
   "source": [
    "cleaned['shape'].value_counts()"
   ]
  },
  {
   "cell_type": "code",
   "execution_count": 489,
   "metadata": {},
   "outputs": [],
   "source": [
    "cleaned.to_pickle('data/cleaned.pkl')"
   ]
  },
  {
   "cell_type": "markdown",
   "metadata": {},
   "source": [
    "### Saving as Feather file"
   ]
  },
  {
   "cell_type": "code",
   "execution_count": 5,
   "metadata": {},
   "outputs": [],
   "source": [
    "dropped.reset_index(drop=True, inplace=True)"
   ]
  },
  {
   "cell_type": "code",
   "execution_count": 6,
   "metadata": {},
   "outputs": [],
   "source": [
    "dropped.to_feather('data/cleaned.feather')"
   ]
  },
  {
   "cell_type": "code",
   "execution_count": 2,
   "metadata": {},
   "outputs": [],
   "source": [
    "dropped.to_csv('data/cleaned.csv')"
   ]
  },
  {
   "cell_type": "code",
   "execution_count": 496,
   "metadata": {},
   "outputs": [],
   "source": [
    "dropped.drop(['url', 'html'], axis=1, inplace=True)"
   ]
  },
  {
   "cell_type": "code",
   "execution_count": 497,
   "metadata": {},
   "outputs": [
    {
     "name": "stdout",
     "output_type": "stream",
     "text": [
      "<class 'pandas.core.frame.DataFrame'>\n",
      "Int64Index: 136332 entries, 0 to 136493\n",
      "Data columns (total 10 columns):\n",
      " #   Column    Non-Null Count   Dtype \n",
      "---  ------    --------------   ----- \n",
      " 0   _id       136332 non-null  object\n",
      " 1   time      136332 non-null  object\n",
      " 2   text      136332 non-null  object\n",
      " 3   table     136332 non-null  object\n",
      " 4   occurred  136332 non-null  object\n",
      " 5   reported  136332 non-null  object\n",
      " 6   posted    136332 non-null  object\n",
      " 7   location  136332 non-null  object\n",
      " 8   shape     136332 non-null  object\n",
      " 9   duration  136332 non-null  object\n",
      "dtypes: object(10)\n",
      "memory usage: 16.4+ MB\n"
     ]
    }
   ],
   "source": [
    "dropped.info()"
   ]
  },
  {
   "cell_type": "code",
   "execution_count": 506,
   "metadata": {},
   "outputs": [],
   "source": [
    "pd.set_option('display.max_rows', 1400)"
   ]
  },
  {
   "cell_type": "code",
   "execution_count": 508,
   "metadata": {},
   "outputs": [],
   "source": [
    "#dropped['duration'][dropped['duration'].str.contains(' to ')].str.replace(' to ', '-')"
   ]
  },
  {
   "cell_type": "code",
   "execution_count": 514,
   "metadata": {},
   "outputs": [],
   "source": [
    "#dropped['duration'][dropped['duration'].str.contains('minute')].str.replace('+','').str.replace('~', '').str.replace('&gt;', '').str.replace('&lt;','').head(500)"
   ]
  },
  {
   "cell_type": "markdown",
   "metadata": {},
   "source": [
    "### Bag of Words approach to time series"
   ]
  },
  {
   "cell_type": "code",
   "execution_count": 521,
   "metadata": {},
   "outputs": [],
   "source": [
    "def duration_cleaning(row):\n",
    "    if len(row) == 0:\n",
    "        return \"Unknown\"\n",
    "    else: \n",
    "        return row.replace('+','').replace('~', '').replace('&gt;', '').replace('&lt;','')"
   ]
  },
  {
   "cell_type": "code",
   "execution_count": 523,
   "metadata": {},
   "outputs": [],
   "source": [
    "dropped['duration'] = dropped['duration'].apply(duration_cleaning)"
   ]
  },
  {
   "cell_type": "code",
   "execution_count": 526,
   "metadata": {},
   "outputs": [],
   "source": [
    "corpus = dropped['duration'].values.tolist()"
   ]
  },
  {
   "cell_type": "code",
   "execution_count": 625,
   "metadata": {},
   "outputs": [
    {
     "data": {
      "text/plain": [
       "41916"
      ]
     },
     "execution_count": 625,
     "metadata": {},
     "output_type": "execute_result"
    }
   ],
   "source": [
    "words = []\n",
    "for phrase in corpus:\n",
    "    text = phrase.split()\n",
    "    for word in text:\n",
    "        if word in ['minute', 'minutes', 'mimutes', 'mimute', 'minutess', 'minutes?', 'mintues', 'minuts', 'minuets', 'mints', 'min','mins', 'min.',\n",
    "                    'Min.', 'Mins', 'Mins.', 'mins.', 'Min', 'Minutes', 'Minute', 'mins.', 'Min', 'Minutes', 'Minute', 'minutes,', 'minutes.', 'minuites', 'minites', 'min?',\n",
    "                    'MINUTES', 'SECONDS', 'MIN', 'MIN.', 'MINS', 'MINUTE', 'HOURS', 'HOUR', 'HRS.', 'SEC', 'SEC.', 'SECS', 'HRS',\n",
    "                    'second', 'seconds', 'sec', 'sec.', 'secs', 'secs.', 'Sec.', 'Sec', 'seconds?', 'Seconds', 'Second', 'secounds', 'seconds.',\n",
    "                    'hour', 'hours', 'Hour', 'Hours', 'hr', 'hrs.', 'hrs', 'hours?',\n",
    "                    'ongoing', 'Ongoing', 'day', 'days', 'unknown', 'Unknown', 'UNKNOWN', 'to']:\n",
    "            pass\n",
    "        elif word.isdigit():\n",
    "            pass\n",
    "        else: words.append(word)\n",
    "len(words)"
   ]
  },
  {
   "cell_type": "code",
   "execution_count": 626,
   "metadata": {},
   "outputs": [
    {
     "data": {
      "text/plain": [
       "18909"
      ]
     },
     "execution_count": 626,
     "metadata": {},
     "output_type": "execute_result"
    }
   ],
   "source": [
    "new_words = []\n",
    "for word in words:\n",
    "    word = word.replace(':', '').replace('-', '')\n",
    "    if len(word) < 1:\n",
    "        pass\n",
    "    else: \n",
    "        if word.isdigit() or word.isdecimal():\n",
    "            pass\n",
    "        elif word[0].isdigit():\n",
    "            pass\n",
    "        else:\n",
    "            new_words.append(word)\n",
    "len(new_words)"
   ]
  },
  {
   "cell_type": "code",
   "execution_count": 624,
   "metadata": {},
   "outputs": [
    {
     "data": {
      "text/plain": [
       "[('about', 772),\n",
       " ('few', 689),\n",
       " ('a', 655),\n",
       " ('or', 581),\n",
       " ('one', 389),\n",
       " ('approx', 386),\n",
       " ('less', 364),\n",
       " ('than', 346),\n",
       " ('?', 322),\n",
       " ('approx.', 277),\n",
       " ('still', 267),\n",
       " ('several', 245),\n",
       " ('night', 226),\n",
       " ('Few', 224),\n",
       " ('and', 216),\n",
       " ('About', 203),\n",
       " ('going', 192),\n",
       " ('half', 187),\n",
       " ('on', 181),\n",
       " ('an', 168),\n",
       " ('so', 161),\n",
       " ('two', 161),\n",
       " ('five', 159),\n",
       " ('more', 153),\n",
       " ('at', 151),\n",
       " ('sure', 145),\n",
       " ('A', 141),\n",
       " ('over', 136),\n",
       " ('not', 131),\n",
       " ('least', 125),\n",
       " ('of', 122),\n",
       " ('ten', 118),\n",
       " ('Still', 112),\n",
       " ('plus', 110),\n",
       " ('all', 108),\n",
       " ('Several', 103),\n",
       " ('the', 95),\n",
       " ('there', 93),\n",
       " ('Less', 86),\n",
       " ('three', 84),\n",
       " ('Approx.', 80),\n",
       " ('in', 79),\n",
       " ('One', 77),\n",
       " ('aprox', 76),\n",
       " ('for', 75),\n",
       " ('Not', 73),\n",
       " ('time', 72),\n",
       " ('know', 70),\n",
       " ('couple', 69),\n",
       " ('each', 66),\n",
       " ('Approx', 66),\n",
       " ('All', 64),\n",
       " ('happening', 63),\n",
       " ('nights', 62),\n",
       " ('/', 62),\n",
       " ('I', 61),\n",
       " ('hr.', 61),\n",
       " ('around', 60),\n",
       " ('then', 52),\n",
       " ('unsure', 49),\n",
       " ('approximately', 49),\n",
       " ('maybe', 47),\n",
       " (\"don't\", 45),\n",
       " ('continuous', 45),\n",
       " ('current', 44),\n",
       " ('long', 44),\n",
       " ('total', 43),\n",
       " ('now', 42),\n",
       " ('photo', 42),\n",
       " ('aprox.', 42),\n",
       " ('TO', 42),\n",
       " ('brief', 41),\n",
       " ('sky', 40),\n",
       " ('it', 40),\n",
       " ('Two', 38),\n",
       " ('@', 36),\n",
       " ('short', 35),\n",
       " ('&amp;', 35),\n",
       " ('off', 35),\n",
       " ('continuing', 34),\n",
       " ('home', 34),\n",
       " ('driving', 34),\n",
       " ('months', 33),\n",
       " ('Brief', 32),\n",
       " ('On', 32),\n",
       " ('weeks', 32),\n",
       " ('i', 32),\n",
       " ('every', 32),\n",
       " ('Ten', 32),\n",
       " ('split', 31),\n",
       " ('Night', 30),\n",
       " ('longer', 30),\n",
       " ('Five', 30),\n",
       " ('by', 30),\n",
       " ('picture', 29),\n",
       " ('.5', 29),\n",
       " ('from', 29),\n",
       " ('??', 29),\n",
       " ('(approx.)', 28),\n",
       " ('under', 28),\n",
       " ('(?)', 27),\n",
       " ('week', 27),\n",
       " ('At', 27),\n",
       " ('Photo', 26),\n",
       " ('very', 26),\n",
       " ('until', 26),\n",
       " ('Over', 25),\n",
       " ('max', 25),\n",
       " ('app.', 25),\n",
       " ('four', 25),\n",
       " ('past', 24),\n",
       " ('present', 24),\n",
       " ('Continuous', 24),\n",
       " ('my', 24),\n",
       " ('.30', 24),\n",
       " ('unkown', 24),\n",
       " ('roughly', 24),\n",
       " ('ufo', 24),\n",
       " ('saw', 23),\n",
       " ('times', 23),\n",
       " ('???', 23),\n",
       " ('m', 23),\n",
       " ('out', 22),\n",
       " ('as', 22),\n",
       " ('sighting', 22),\n",
       " ('seconds.', 22),\n",
       " ('light', 21),\n",
       " ('Unsure', 21),\n",
       " ('far', 21),\n",
       " ('till', 21),\n",
       " ('s', 21),\n",
       " ('unk', 20),\n",
       " ('(each)', 20),\n",
       " ('morning', 20),\n",
       " ('lights', 19),\n",
       " ('no', 19),\n",
       " ('only', 19),\n",
       " ('west', 19),\n",
       " ('Short', 19),\n",
       " ('we', 19),\n",
       " ('Half', 19),\n",
       " ('while', 19),\n",
       " ('twenty', 19),\n",
       " ('flash', 18),\n",
       " ('evening', 18),\n",
       " ('was', 18),\n",
       " ('almost', 18),\n",
       " ('am', 18),\n",
       " ('that', 18),\n",
       " ('appx.', 18)]"
      ]
     },
     "execution_count": 624,
     "metadata": {},
     "output_type": "execute_result"
    }
   ],
   "source": [
    "from collections import Counter\n",
    "test = Counter(new_words)\n",
    "test.most_common(150)"
   ]
  },
  {
   "cell_type": "code",
   "execution_count": 10,
   "metadata": {},
   "outputs": [
    {
     "data": {
      "text/html": [
       "<div>\n",
       "<style scoped>\n",
       "    .dataframe tbody tr th:only-of-type {\n",
       "        vertical-align: middle;\n",
       "    }\n",
       "\n",
       "    .dataframe tbody tr th {\n",
       "        vertical-align: top;\n",
       "    }\n",
       "\n",
       "    .dataframe thead th {\n",
       "        text-align: right;\n",
       "    }\n",
       "</style>\n",
       "<table border=\"1\" class=\"dataframe\">\n",
       "  <thead>\n",
       "    <tr style=\"text-align: right;\">\n",
       "      <th></th>\n",
       "      <th>_id</th>\n",
       "      <th>time</th>\n",
       "      <th>text</th>\n",
       "      <th>occurred</th>\n",
       "      <th>reported</th>\n",
       "      <th>posted</th>\n",
       "      <th>location</th>\n",
       "      <th>shape</th>\n",
       "      <th>duration</th>\n",
       "    </tr>\n",
       "  </thead>\n",
       "  <tbody>\n",
       "    <tr>\n",
       "      <th>0</th>\n",
       "      <td>{'$oid': '591382287c40e83fd74240bd'}</td>\n",
       "      <td>Wed May 10 21:12:07 2017</td>\n",
       "      <td>Light seen over mountain's east of Camp McGregor.  It hovered in one spot.  It looked like a helicopter light at first.  But it was way to bright.  Then it went to a higher height.  Stayed there for a while.  Then disappeared.((NUFORC Note:  Report appears to us to be consistent with the sightin...</td>\n",
       "      <td>5/6/2017 05:00  (Entered as : 05/06/2017 05:00)</td>\n",
       "      <td>5/6/2017 4:10:01 AM 04:10</td>\n",
       "      <td>5/6/2017</td>\n",
       "      <td>Camp McGregor, NM</td>\n",
       "      <td>Light</td>\n",
       "      <td>10 minutes</td>\n",
       "    </tr>\n",
       "    <tr>\n",
       "      <th>1</th>\n",
       "      <td>{'$oid': '591389377c40e840c123dfef'}</td>\n",
       "      <td>Wed May 10 21:42:15 2017</td>\n",
       "      <td>Light in sky stationary.  Not a airplane or any known star.  Flickering in brightness.((NUFORC Note:  Possibly Venus.  Source of the report elects to remain anonymous; provides no contact information.  We could not find a city named \"Mojave\" in BC, Canada.  PD))</td>\n",
       "      <td>5/6/2017 04:50  (Entered as : 06/05/2017 04:50)</td>\n",
       "      <td>5/6/2017 5:00:54 AM 05:00</td>\n",
       "      <td>5/6/2017</td>\n",
       "      <td>Mojave (Canada), BC</td>\n",
       "      <td>Light</td>\n",
       "      <td>1:00</td>\n",
       "    </tr>\n",
       "    <tr>\n",
       "      <th>2</th>\n",
       "      <td>{'$oid': '591389397c40e840c123dff0'}</td>\n",
       "      <td>Wed May 10 21:42:17 2017</td>\n",
       "      <td>Flying saucer descends, possibly lands in North Austin nature trailAt approximately 11:30 AM I was on the balcony of my apartment when I saw a flying object descending in the sky very rapidly.  It traveled from west to east over Walnut Creek where it appeared to land on the trail.  It definitely...</td>\n",
       "      <td>5/5/2017 11:30  (Entered as : 05/05/17 11:30)</td>\n",
       "      <td>5/5/2017 12:18:44 PM 12:18</td>\n",
       "      <td>5/6/2017</td>\n",
       "      <td>Austin, TX</td>\n",
       "      <td>Disk</td>\n",
       "      <td>3 seconds</td>\n",
       "    </tr>\n",
       "    <tr>\n",
       "      <th>3</th>\n",
       "      <td>{'$oid': '5913893c7c40e840c123dff1'}</td>\n",
       "      <td>Wed May 10 21:42:20 2017</td>\n",
       "      <td>While letting my dog out, a very bright white circle of light appeared suddenly in the sky.  It seemed very low like small plane or helicopter height, but was brighter than anything I have seen before.  It almost immediately began moving rapidly in a straight northeast direction, never diminishi...</td>\n",
       "      <td>5/5/2017 03:00  (Entered as : 5/5/17 3:00)</td>\n",
       "      <td>5/5/2017 3:49:05 AM 03:49</td>\n",
       "      <td>5/6/2017</td>\n",
       "      <td>El Mirage, AZ</td>\n",
       "      <td>Circle</td>\n",
       "      <td>30 seconds</td>\n",
       "    </tr>\n",
       "    <tr>\n",
       "      <th>4</th>\n",
       "      <td>{'$oid': '5913893f7c40e840c123dff2'}</td>\n",
       "      <td>Wed May 10 21:42:23 2017</td>\n",
       "      <td>A fire ball was moving in the atmosphere while stopping, going, and even changing directions.11:17 p.m CST. (The before situation) This is when I first snuck outside to go stargazing for a while. When I first came outside I began to watch the stars and relax as the last day of school for me is t...</td>\n",
       "      <td>5/4/2017 23:34  (Entered as : 5/4/17 23:34)</td>\n",
       "      <td>5/4/2017 10:38:52 PM 22:38</td>\n",
       "      <td>5/6/2017</td>\n",
       "      <td>York, NE</td>\n",
       "      <td>Fireball</td>\n",
       "      <td>0:18</td>\n",
       "    </tr>\n",
       "  </tbody>\n",
       "</table>\n",
       "</div>"
      ],
      "text/plain": [
       "                                    _id                      time  \\\n",
       "0  {'$oid': '591382287c40e83fd74240bd'}  Wed May 10 21:12:07 2017   \n",
       "1  {'$oid': '591389377c40e840c123dfef'}  Wed May 10 21:42:15 2017   \n",
       "2  {'$oid': '591389397c40e840c123dff0'}  Wed May 10 21:42:17 2017   \n",
       "3  {'$oid': '5913893c7c40e840c123dff1'}  Wed May 10 21:42:20 2017   \n",
       "4  {'$oid': '5913893f7c40e840c123dff2'}  Wed May 10 21:42:23 2017   \n",
       "\n",
       "                                                                                                                                                                                                                                                                                                          text  \\\n",
       "0  Light seen over mountain's east of Camp McGregor.  It hovered in one spot.  It looked like a helicopter light at first.  But it was way to bright.  Then it went to a higher height.  Stayed there for a while.  Then disappeared.((NUFORC Note:  Report appears to us to be consistent with the sightin...   \n",
       "1                                       Light in sky stationary.  Not a airplane or any known star.  Flickering in brightness.((NUFORC Note:  Possibly Venus.  Source of the report elects to remain anonymous; provides no contact information.  We could not find a city named \"Mojave\" in BC, Canada.  PD))   \n",
       "2  Flying saucer descends, possibly lands in North Austin nature trailAt approximately 11:30 AM I was on the balcony of my apartment when I saw a flying object descending in the sky very rapidly.  It traveled from west to east over Walnut Creek where it appeared to land on the trail.  It definitely...   \n",
       "3  While letting my dog out, a very bright white circle of light appeared suddenly in the sky.  It seemed very low like small plane or helicopter height, but was brighter than anything I have seen before.  It almost immediately began moving rapidly in a straight northeast direction, never diminishi...   \n",
       "4  A fire ball was moving in the atmosphere while stopping, going, and even changing directions.11:17 p.m CST. (The before situation) This is when I first snuck outside to go stargazing for a while. When I first came outside I began to watch the stars and relax as the last day of school for me is t...   \n",
       "\n",
       "                                          occurred  \\\n",
       "0  5/6/2017 05:00  (Entered as : 05/06/2017 05:00)   \n",
       "1  5/6/2017 04:50  (Entered as : 06/05/2017 04:50)   \n",
       "2    5/5/2017 11:30  (Entered as : 05/05/17 11:30)   \n",
       "3       5/5/2017 03:00  (Entered as : 5/5/17 3:00)   \n",
       "4      5/4/2017 23:34  (Entered as : 5/4/17 23:34)   \n",
       "\n",
       "                     reported    posted             location     shape  \\\n",
       "0   5/6/2017 4:10:01 AM 04:10  5/6/2017    Camp McGregor, NM     Light   \n",
       "1   5/6/2017 5:00:54 AM 05:00  5/6/2017  Mojave (Canada), BC     Light   \n",
       "2  5/5/2017 12:18:44 PM 12:18  5/6/2017           Austin, TX      Disk   \n",
       "3   5/5/2017 3:49:05 AM 03:49  5/6/2017        El Mirage, AZ    Circle   \n",
       "4  5/4/2017 10:38:52 PM 22:38  5/6/2017             York, NE  Fireball   \n",
       "\n",
       "     duration  \n",
       "0  10 minutes  \n",
       "1        1:00  \n",
       "2   3 seconds  \n",
       "3  30 seconds  \n",
       "4        0:18  "
      ]
     },
     "execution_count": 10,
     "metadata": {},
     "output_type": "execute_result"
    }
   ],
   "source": [
    "dropped.drop(['table'], axis=1, inplace=True)\n",
    "dropped.head()"
   ]
  },
  {
   "cell_type": "code",
   "execution_count": null,
   "metadata": {},
   "outputs": [],
   "source": []
  }
 ],
 "metadata": {
  "kernelspec": {
   "display_name": "Python 3",
   "language": "python",
   "name": "python3"
  },
  "language_info": {
   "codemirror_mode": {
    "name": "ipython",
    "version": 3
   },
   "file_extension": ".py",
   "mimetype": "text/x-python",
   "name": "python",
   "nbconvert_exporter": "python",
   "pygments_lexer": "ipython3",
   "version": "3.8.3"
  }
 },
 "nbformat": 4,
 "nbformat_minor": 4
}
