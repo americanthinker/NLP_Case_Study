{
 "cells": [
  {
   "cell_type": "code",
   "execution_count": 1,
   "metadata": {},
   "outputs": [],
   "source": [
    "import json # to work with json file format\n",
    "from bs4 import BeautifulSoup # to parse html\n",
    "from datetime import datetime, timedelta\n",
    "\n",
    "# bf_df_100 = pd.read_json('data/bigfoot_first100records.json', lines =True)  # 100 samples"
   ]
  },
  {
   "cell_type": "code",
   "execution_count": 26,
   "metadata": {},
   "outputs": [],
   "source": [
    "bf_df = pd.read_json('data/bigfoot_data.json', lines =True)\n",
    "bf_htmls = bf_df['html'].values"
   ]
  },
  {
   "cell_type": "code",
   "execution_count": 89,
   "metadata": {},
   "outputs": [],
   "source": [
    "# bf_df.head()"
   ]
  },
  {
   "cell_type": "code",
   "execution_count": 90,
   "metadata": {},
   "outputs": [],
   "source": [
    "soup = BeautifulSoup(bf_htmls[0], 'html.parser')"
   ]
  },
  {
   "cell_type": "code",
   "execution_count": 91,
   "metadata": {},
   "outputs": [],
   "source": [
    "def bf_pull_observation(soup_record):\n",
    "    text = ''\n",
    "    for elem in soup.find_all('span', {'class': 'field'}):\n",
    "        if elem.getText() == 'OBSERVED:':\n",
    "            text = elem.parent.getText()[10:]\n",
    "    return text\n"
   ]
  },
  {
   "cell_type": "code",
   "execution_count": 96,
   "metadata": {},
   "outputs": [],
   "source": [
    "# bf_pull_observation(soup)"
   ]
  },
  {
   "cell_type": "code",
   "execution_count": 107,
   "metadata": {},
   "outputs": [],
   "source": [
    "def bf_pull_date(soup_record):\n",
    "    month, year = '',0\n",
    "    for elem in soup.find_all('span', {'class': 'field'}):\n",
    "        if elem.getText()  == 'YEAR:':\n",
    "            year = elem.parent.getText()[6:]\n",
    "        if elem.getText()  == 'MONTH:':\n",
    "            month = elem.parent.getText()[7:]\n",
    "    return month, year"
   ]
  },
  {
   "cell_type": "code",
   "execution_count": 108,
   "metadata": {},
   "outputs": [],
   "source": [
    "mn, yr = bf_pull_date(soup)"
   ]
  },
  {
   "cell_type": "code",
   "execution_count": 109,
   "metadata": {},
   "outputs": [],
   "source": [
    "def bf_pull_county_state(soup_record):\n",
    "    county, state = '',''\n",
    "    for elem in soup.find_all('span', {'class': 'field'}):\n",
    "        if elem.getText()  == 'COUNTY:':\n",
    "            county = elem.parent.getText()[8:]\n",
    "        if elem.getText()  == 'STATE:':\n",
    "            state = elem.parent.getText()[7:]\n",
    "    return county, state"
   ]
  },
  {
   "cell_type": "code",
   "execution_count": 110,
   "metadata": {},
   "outputs": [
    {
     "data": {
      "text/plain": [
       "('', '')"
      ]
     },
     "execution_count": 110,
     "metadata": {},
     "output_type": "execute_result"
    }
   ],
   "source": [
    "bf_pull_county_state(soup)"
   ]
  },
  {
   "cell_type": "code",
   "execution_count": 115,
   "metadata": {},
   "outputs": [],
   "source": [
    "soup = BeautifulSoup(bf_htmls[0], 'html.parser')\n",
    "counties = []\n",
    "states = []\n",
    "months = []\n",
    "years = []\n",
    "observations = []\n",
    "for html in bf_htmls:\n",
    "    soup = BeautifulSoup(html, 'html.parser')\n",
    "    observations.append(bf_pull_observation(soup))\n",
    "    mn, yr = bf_pull_date(soup)\n",
    "    months.append(mn)\n",
    "    years.append(yr)\n",
    "    \n",
    "    "
   ]
  },
  {
   "cell_type": "code",
   "execution_count": 112,
   "metadata": {},
   "outputs": [
    {
     "data": {
      "text/plain": [
       "list"
      ]
     },
     "execution_count": 112,
     "metadata": {},
     "output_type": "execute_result"
    }
   ],
   "source": [
    "# type(years)"
   ]
  },
  {
   "cell_type": "code",
   "execution_count": 123,
   "metadata": {},
   "outputs": [],
   "source": [
    "bf_parsed = pd.DataFrame([months, years, counties, states, observations]).T\n",
    "bf_parsed.columns = ['Month', 'Year', 'County', 'State', 'Observation']"
   ]
  },
  {
   "cell_type": "code",
   "execution_count": 124,
   "metadata": {},
   "outputs": [
    {
     "data": {
      "text/html": [
       "<div>\n",
       "<style scoped>\n",
       "    .dataframe tbody tr th:only-of-type {\n",
       "        vertical-align: middle;\n",
       "    }\n",
       "\n",
       "    .dataframe tbody tr th {\n",
       "        vertical-align: top;\n",
       "    }\n",
       "\n",
       "    .dataframe thead th {\n",
       "        text-align: right;\n",
       "    }\n",
       "</style>\n",
       "<table border=\"1\" class=\"dataframe\">\n",
       "  <thead>\n",
       "    <tr style=\"text-align: right;\">\n",
       "      <th></th>\n",
       "      <th>Month</th>\n",
       "      <th>Year</th>\n",
       "      <th>County</th>\n",
       "      <th>State</th>\n",
       "      <th>Observation</th>\n",
       "    </tr>\n",
       "  </thead>\n",
       "  <tbody>\n",
       "    <tr>\n",
       "      <th>0</th>\n",
       "      <td>February</td>\n",
       "      <td>2004</td>\n",
       "      <td>None</td>\n",
       "      <td>None</td>\n",
       "      <td>I and two of my friends were bored one night so we decided to do a little snowmachining. Though it was illegal to snowmachine in Anchorage, there were some good trails to ride on a little north of my house.  We took off at probably 11 pm, rode up the road about a quarter mile, and cut off on the...</td>\n",
       "    </tr>\n",
       "    <tr>\n",
       "      <th>1</th>\n",
       "      <td>December</td>\n",
       "      <td>2003</td>\n",
       "      <td>None</td>\n",
       "      <td>None</td>\n",
       "      <td>Me and a couple of friends had been bored, when I decided we should take a walk through the woods behind my house. I didn't think much of it, as me and my friend have done it many times before. There were four of us, and we set out at about 11 o'clock at night. It was rather dark, but there was ...</td>\n",
       "    </tr>\n",
       "    <tr>\n",
       "      <th>2</th>\n",
       "      <td>September</td>\n",
       "      <td>1998</td>\n",
       "      <td>None</td>\n",
       "      <td>None</td>\n",
       "      <td>My hunting buddy and I were sitting on a ridge watching for Caribou. About 1000 yards away a large clearing was in view. While we were glassing the clearing for caribou to come out of the brush we watched a large grey animal walking on hind legs walk between two large spruce trees on opposite si...</td>\n",
       "    </tr>\n",
       "    <tr>\n",
       "      <th>3</th>\n",
       "      <td>July</td>\n",
       "      <td>2004</td>\n",
       "      <td>None</td>\n",
       "      <td>None</td>\n",
       "      <td>To whom it may concern, I am a commercial fisherman in Alaska and have been doing so since 1970. I am an avid outdoorsman, hunter and someone who just loves to get out there. Every year after fishing, I try to take a trip up river with a friend or two to wind down and enjoy ourselves before we g...</td>\n",
       "    </tr>\n",
       "    <tr>\n",
       "      <th>4</th>\n",
       "      <td>June</td>\n",
       "      <td>2000</td>\n",
       "      <td>None</td>\n",
       "      <td>None</td>\n",
       "      <td>My hiking partner and I arrived late to the Kennikot area. We were trying to make it to the camp sites near the glachier but it started getting too dark even for us . So we decided to camp at the first available site . We found a small spot right off the trail so we made camp and hung our suppli...</td>\n",
       "    </tr>\n",
       "  </tbody>\n",
       "</table>\n",
       "</div>"
      ],
      "text/plain": [
       "       Month  Year County State  \\\n",
       "0   February  2004   None  None   \n",
       "1   December  2003   None  None   \n",
       "2  September  1998   None  None   \n",
       "3       July  2004   None  None   \n",
       "4       June  2000   None  None   \n",
       "\n",
       "                                                                                                                                                                                                                                                                                                   Observation  \n",
       "0  I and two of my friends were bored one night so we decided to do a little snowmachining. Though it was illegal to snowmachine in Anchorage, there were some good trails to ride on a little north of my house.  We took off at probably 11 pm, rode up the road about a quarter mile, and cut off on the...  \n",
       "1  Me and a couple of friends had been bored, when I decided we should take a walk through the woods behind my house. I didn't think much of it, as me and my friend have done it many times before. There were four of us, and we set out at about 11 o'clock at night. It was rather dark, but there was ...  \n",
       "2  My hunting buddy and I were sitting on a ridge watching for Caribou. About 1000 yards away a large clearing was in view. While we were glassing the clearing for caribou to come out of the brush we watched a large grey animal walking on hind legs walk between two large spruce trees on opposite si...  \n",
       "3  To whom it may concern, I am a commercial fisherman in Alaska and have been doing so since 1970. I am an avid outdoorsman, hunter and someone who just loves to get out there. Every year after fishing, I try to take a trip up river with a friend or two to wind down and enjoy ourselves before we g...  \n",
       "4  My hiking partner and I arrived late to the Kennikot area. We were trying to make it to the camp sites near the glachier but it started getting too dark even for us . So we decided to camp at the first available site . We found a small spot right off the trail so we made camp and hung our suppli...  "
      ]
     },
     "execution_count": 124,
     "metadata": {},
     "output_type": "execute_result"
    }
   ],
   "source": [
    "bf_parsed.head()"
   ]
  }
 ],
 "metadata": {
  "kernelspec": {
   "display_name": "Python 3",
   "language": "python",
   "name": "python3"
  },
  "language_info": {
   "codemirror_mode": {
    "name": "ipython",
    "version": 3
   },
   "file_extension": ".py",
   "mimetype": "text/x-python",
   "name": "python",
   "nbconvert_exporter": "python",
   "pygments_lexer": "ipython3",
   "version": "3.7.9"
  }
 },
 "nbformat": 4,
 "nbformat_minor": 4
}
